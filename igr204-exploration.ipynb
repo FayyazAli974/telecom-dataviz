{
 "cells": [
  {
   "cell_type": "markdown",
   "metadata": {},
   "source": [
    "# IGR204 - Projet"
   ]
  },
  {
   "cell_type": "code",
   "execution_count": 1,
   "metadata": {},
   "outputs": [],
   "source": [
    "import numpy as np\n",
    "import pandas as pd"
   ]
  },
  {
   "cell_type": "code",
   "execution_count": 2,
   "metadata": {},
   "outputs": [
    {
     "name": "stdout",
     "output_type": "stream",
     "text": [
      "1.10.0\n"
     ]
    }
   ],
   "source": [
    "import dash_core_components\n",
    "print(dash_core_components.__version__)"
   ]
  },
  {
   "cell_type": "code",
   "execution_count": 11,
   "metadata": {},
   "outputs": [],
   "source": [
    "estimations = [\"lower\", \"midpoint\", \"higher\"]\n",
    "years = [2015, 2020, 2040, 2060]"
   ]
  },
  {
   "cell_type": "markdown",
   "metadata": {},
   "source": [
    "# 1. Chargement des données"
   ]
  },
  {
   "cell_type": "markdown",
   "metadata": {},
   "source": [
    "Data:\n",
    "* `total-pw`: total plastic waste (kg/year)  -> Quantité totale de déchets plastiques émis\n",
    "* `pmw`: mismanaged plastic waste (kg/year)  -> Quantité totale de déchets plastiques mal recyclés<br />\n",
    "-> Ces données sont disponibles pour 2015, 2020, 2040, 2060<br />\n",
    "-> Ces données sont disponibles sous forme de fourchette lower, midpoint, higher (les colonnes commencent par `midpoint-` ...)<br />\n",
    "-> Les données pmw sont données fixes pour 2015 et en prévisionnel pour 2020, 2040, 2060 selon 3 scénarios (A, B, C)\n",
    "\n",
    "Il y a ensuite de nombreuses colonnes donnant des statistiques sur les pays."
   ]
  },
  {
   "cell_type": "code",
   "execution_count": 3,
   "metadata": {},
   "outputs": [
    {
     "name": "stdout",
     "output_type": "stream",
     "text": [
      "(187, 108)\n"
     ]
    },
    {
     "data": {
      "text/html": [
       "<div>\n",
       "<style scoped>\n",
       "    .dataframe tbody tr th:only-of-type {\n",
       "        vertical-align: middle;\n",
       "    }\n",
       "\n",
       "    .dataframe tbody tr th {\n",
       "        vertical-align: top;\n",
       "    }\n",
       "\n",
       "    .dataframe thead th {\n",
       "        text-align: right;\n",
       "    }\n",
       "</style>\n",
       "<table border=\"1\" class=\"dataframe\">\n",
       "  <thead>\n",
       "    <tr style=\"text-align: right;\">\n",
       "      <th></th>\n",
       "      <th>Country</th>\n",
       "      <th>Country code</th>\n",
       "      <th>ISO code</th>\n",
       "      <th>Continent</th>\n",
       "      <th>Region</th>\n",
       "      <th>midpoint-total-pw-2015</th>\n",
       "      <th>midpoint-total-pw-2020</th>\n",
       "      <th>midpoint-total-pw-2040</th>\n",
       "      <th>midpoint-total-pw-2060</th>\n",
       "      <th>midpoint-mpw-2015</th>\n",
       "      <th>...</th>\n",
       "      <th>Oil - production(bbl/day)</th>\n",
       "      <th>Oil - proved reserves(bbl)</th>\n",
       "      <th>Population</th>\n",
       "      <th>Public debt(% of GDP)</th>\n",
       "      <th>Railways(km)</th>\n",
       "      <th>Reserves of foreign exchange &amp; gold</th>\n",
       "      <th>Telephones - main lines in use</th>\n",
       "      <th>Telephones - mobile cellular</th>\n",
       "      <th>Total fertility rate(children born/woman)</th>\n",
       "      <th>Unemployment rate(%)</th>\n",
       "    </tr>\n",
       "  </thead>\n",
       "  <tbody>\n",
       "    <tr>\n",
       "      <th>0</th>\n",
       "      <td>Afghanistan</td>\n",
       "      <td>4</td>\n",
       "      <td>AFG</td>\n",
       "      <td>Asia</td>\n",
       "      <td>Southern Asia</td>\n",
       "      <td>437000000</td>\n",
       "      <td>524000000</td>\n",
       "      <td>928000000</td>\n",
       "      <td>1300000000</td>\n",
       "      <td>4.277045e+08</td>\n",
       "      <td>...</td>\n",
       "      <td>0.0</td>\n",
       "      <td>0.000000e+00</td>\n",
       "      <td>29928987.0</td>\n",
       "      <td>NaN</td>\n",
       "      <td>NaN</td>\n",
       "      <td>NaN</td>\n",
       "      <td>33100.0</td>\n",
       "      <td>15000.0</td>\n",
       "      <td>6.75</td>\n",
       "      <td>NaN</td>\n",
       "    </tr>\n",
       "    <tr>\n",
       "      <th>1</th>\n",
       "      <td>Albania</td>\n",
       "      <td>8</td>\n",
       "      <td>ALB</td>\n",
       "      <td>Europe</td>\n",
       "      <td>Southern Europe</td>\n",
       "      <td>81400000</td>\n",
       "      <td>92300000</td>\n",
       "      <td>117000000</td>\n",
       "      <td>126000000</td>\n",
       "      <td>8.140000e+07</td>\n",
       "      <td>...</td>\n",
       "      <td>2000.0</td>\n",
       "      <td>1.855000e+08</td>\n",
       "      <td>3563112.0</td>\n",
       "      <td>NaN</td>\n",
       "      <td>447.0</td>\n",
       "      <td>1.206000e+09</td>\n",
       "      <td>255000.0</td>\n",
       "      <td>1100000.0</td>\n",
       "      <td>2.04</td>\n",
       "      <td>14.8</td>\n",
       "    </tr>\n",
       "    <tr>\n",
       "      <th>2</th>\n",
       "      <td>Algeria</td>\n",
       "      <td>12</td>\n",
       "      <td>DZA</td>\n",
       "      <td>Africa</td>\n",
       "      <td>Northern Africa</td>\n",
       "      <td>1050000000</td>\n",
       "      <td>1220000000</td>\n",
       "      <td>1940000000</td>\n",
       "      <td>2650000000</td>\n",
       "      <td>8.400000e+08</td>\n",
       "      <td>...</td>\n",
       "      <td>1200000.0</td>\n",
       "      <td>1.187000e+10</td>\n",
       "      <td>32531853.0</td>\n",
       "      <td>37.4</td>\n",
       "      <td>3973.0</td>\n",
       "      <td>4.355000e+10</td>\n",
       "      <td>2199600.0</td>\n",
       "      <td>1447310.0</td>\n",
       "      <td>1.92</td>\n",
       "      <td>25.4</td>\n",
       "    </tr>\n",
       "    <tr>\n",
       "      <th>3</th>\n",
       "      <td>Angola</td>\n",
       "      <td>24</td>\n",
       "      <td>AGO</td>\n",
       "      <td>Africa</td>\n",
       "      <td>Middle Africa</td>\n",
       "      <td>208000000</td>\n",
       "      <td>255000000</td>\n",
       "      <td>785000000</td>\n",
       "      <td>1710000000</td>\n",
       "      <td>1.872000e+08</td>\n",
       "      <td>...</td>\n",
       "      <td>980000.0</td>\n",
       "      <td>2.288000e+10</td>\n",
       "      <td>11190786.0</td>\n",
       "      <td>NaN</td>\n",
       "      <td>2761.0</td>\n",
       "      <td>8.000000e+08</td>\n",
       "      <td>96300.0</td>\n",
       "      <td>130000.0</td>\n",
       "      <td>6.27</td>\n",
       "      <td>NaN</td>\n",
       "    </tr>\n",
       "    <tr>\n",
       "      <th>4</th>\n",
       "      <td>Antigua and Barbuda</td>\n",
       "      <td>28</td>\n",
       "      <td>ATG</td>\n",
       "      <td>Latin America and Caribbean</td>\n",
       "      <td>Caribbean</td>\n",
       "      <td>4510000</td>\n",
       "      <td>4900000</td>\n",
       "      <td>6530000</td>\n",
       "      <td>7660000</td>\n",
       "      <td>1.294985e+06</td>\n",
       "      <td>...</td>\n",
       "      <td>0.0</td>\n",
       "      <td>NaN</td>\n",
       "      <td>68722.0</td>\n",
       "      <td>NaN</td>\n",
       "      <td>NaN</td>\n",
       "      <td>NaN</td>\n",
       "      <td>38000.0</td>\n",
       "      <td>38200.0</td>\n",
       "      <td>2.26</td>\n",
       "      <td>11.0</td>\n",
       "    </tr>\n",
       "  </tbody>\n",
       "</table>\n",
       "<p>5 rows × 108 columns</p>\n",
       "</div>"
      ],
      "text/plain": [
       "               Country  Country code ISO code                    Continent  \\\n",
       "0          Afghanistan             4      AFG                         Asia   \n",
       "1              Albania             8      ALB                       Europe   \n",
       "2              Algeria            12      DZA                       Africa   \n",
       "3               Angola            24      AGO                       Africa   \n",
       "4  Antigua and Barbuda            28      ATG  Latin America and Caribbean   \n",
       "\n",
       "            Region  midpoint-total-pw-2015  midpoint-total-pw-2020  \\\n",
       "0    Southern Asia               437000000               524000000   \n",
       "1  Southern Europe                81400000                92300000   \n",
       "2  Northern Africa              1050000000              1220000000   \n",
       "3    Middle Africa               208000000               255000000   \n",
       "4        Caribbean                 4510000                 4900000   \n",
       "\n",
       "   midpoint-total-pw-2040  midpoint-total-pw-2060  midpoint-mpw-2015  ...  \\\n",
       "0               928000000              1300000000       4.277045e+08  ...   \n",
       "1               117000000               126000000       8.140000e+07  ...   \n",
       "2              1940000000              2650000000       8.400000e+08  ...   \n",
       "3               785000000              1710000000       1.872000e+08  ...   \n",
       "4                 6530000                 7660000       1.294985e+06  ...   \n",
       "\n",
       "   Oil - production(bbl/day)  Oil - proved reserves(bbl)  Population  \\\n",
       "0                        0.0                0.000000e+00  29928987.0   \n",
       "1                     2000.0                1.855000e+08   3563112.0   \n",
       "2                  1200000.0                1.187000e+10  32531853.0   \n",
       "3                   980000.0                2.288000e+10  11190786.0   \n",
       "4                        0.0                         NaN     68722.0   \n",
       "\n",
       "   Public debt(% of GDP)  Railways(km)  Reserves of foreign exchange & gold  \\\n",
       "0                    NaN           NaN                                  NaN   \n",
       "1                    NaN         447.0                         1.206000e+09   \n",
       "2                   37.4        3973.0                         4.355000e+10   \n",
       "3                    NaN        2761.0                         8.000000e+08   \n",
       "4                    NaN           NaN                                  NaN   \n",
       "\n",
       "   Telephones - main lines in use  Telephones - mobile cellular  \\\n",
       "0                         33100.0                       15000.0   \n",
       "1                        255000.0                     1100000.0   \n",
       "2                       2199600.0                     1447310.0   \n",
       "3                         96300.0                      130000.0   \n",
       "4                         38000.0                       38200.0   \n",
       "\n",
       "   Total fertility rate(children born/woman)  Unemployment rate(%)  \n",
       "0                                       6.75                   NaN  \n",
       "1                                       2.04                  14.8  \n",
       "2                                       1.92                  25.4  \n",
       "3                                       6.27                   NaN  \n",
       "4                                       2.26                  11.0  \n",
       "\n",
       "[5 rows x 108 columns]"
      ]
     },
     "execution_count": 3,
     "metadata": {},
     "output_type": "execute_result"
    }
   ],
   "source": [
    "df = pd.read_excel(\"./Data/igr204-data.xlsx\")\n",
    "print(df.shape)\n",
    "df.head()"
   ]
  },
  {
   "cell_type": "code",
   "execution_count": 4,
   "metadata": {},
   "outputs": [
    {
     "data": {
      "text/plain": [
       "['Country',\n",
       " 'Country code',\n",
       " 'ISO code',\n",
       " 'Continent',\n",
       " 'Region',\n",
       " 'midpoint-total-pw-2015',\n",
       " 'midpoint-total-pw-2020',\n",
       " 'midpoint-total-pw-2040',\n",
       " 'midpoint-total-pw-2060',\n",
       " 'midpoint-mpw-2015',\n",
       " 'midpoint-mpw-scenarioA-2020',\n",
       " 'midpoint-mpw-scenarioA-2040',\n",
       " 'midpoint-mpw-scenarioA-2060',\n",
       " 'midpoint-mpw-scenarioB-2020',\n",
       " 'midpoint-mpw-scenarioB-2040',\n",
       " 'midpoint-mpw-scenarioB-2060',\n",
       " 'midpoint-mpw-scenarioC-2020',\n",
       " 'midpoint-mpw-scenarioC-2040',\n",
       " 'midpoint-mpw-scenarioC-2060',\n",
       " 'lower-total-pw-2015',\n",
       " 'lower-total-pw-2020',\n",
       " 'lower-total-pw-2040',\n",
       " 'lower-total-pw-2060',\n",
       " 'lower-mpw-2015',\n",
       " 'lower-mpw-scenarioA-2020',\n",
       " 'lower-mpw-scenarioA-2040',\n",
       " 'lower-mpw-scenarioA-2060',\n",
       " 'lower-mpw-scenarioB-2020',\n",
       " 'lower-mpw-scenarioB-2040',\n",
       " 'lower-mpw-scenarioB-2060',\n",
       " 'lower-mpw-scenarioC-2020',\n",
       " 'lower-mpw-scenarioC-2040',\n",
       " 'lower-mpw-scenarioC-2060',\n",
       " 'higher-total-pw-2015',\n",
       " 'higher-total-pw-2020',\n",
       " 'higher-total-pw-2040',\n",
       " 'higher-total-pw-2060',\n",
       " 'higher-mpw-2015',\n",
       " 'higher-mpw-scenarioA-2020',\n",
       " 'higher-mpw-scenarioA-2040',\n",
       " 'higher-mpw-scenarioA-2060',\n",
       " 'higher-mpw-scenarioB-2020',\n",
       " 'higher-mpw-scenarioB-2040',\n",
       " 'higher-mpw-scenarioB-2060',\n",
       " 'higher-mpw-scenarioC-2020',\n",
       " 'higher-mpw-scenarioC-2040',\n",
       " 'higher-mpw-scenarioC-2060',\n",
       " '2015 lower Per Capita MSW (kg.y-1)',\n",
       " '2015 median Per Capita MSW (kg.y-1)',\n",
       " '2015 higher Per Capita MSW (kg.y-1)',\n",
       " '2015 lower Mismanaged MSW fraction (%)',\n",
       " '2015 median Mismanaged MSW fraction (%)',\n",
       " '2015 higher Mismanaged MSW fraction (%)',\n",
       " '2015 lower MSW Plastic Ratio (%)',\n",
       " '2015 median MSW Plastic Ratio (%)',\n",
       " '2015 higher MSW Plastic Ratio (%)',\n",
       " '2015 Population (x1000 ppl)',\n",
       " '2020 Population (x1000 ppl)',\n",
       " '2040 Population (x1000 ppl)',\n",
       " '2060 Population (x1000 ppl)',\n",
       " '2015 Per Capita GDP (2016 USD)',\n",
       " '2020 Per Capita GDP (2016 USD)',\n",
       " '2040 Per Capita GDP (2016 USD)',\n",
       " '2060 Per Capita GDP (2016 USD)',\n",
       " 'Area(sq km)',\n",
       " 'Birth rate(births/1000 population)',\n",
       " 'Current account balance',\n",
       " 'Death rate(deaths/1000 population)',\n",
       " 'Debt - external',\n",
       " 'Electricity - consumption(kWh)',\n",
       " 'Electricity - production(kWh)',\n",
       " 'Exports',\n",
       " 'GDP',\n",
       " 'GDP - per capita',\n",
       " 'GDP - real growth rate(%)',\n",
       " 'HIV/AIDS - adult prevalence rate(%)',\n",
       " 'HIV/AIDS - deaths',\n",
       " 'HIV/AIDS - people living with HIV/AIDS',\n",
       " 'Highways(km)',\n",
       " 'Imports',\n",
       " 'Industrial production growth rate(%)',\n",
       " 'Infant mortality rate(deaths/1000 live births)',\n",
       " 'Inflation rate (consumer prices)(%)',\n",
       " 'Internet hosts',\n",
       " 'Internet users',\n",
       " 'Investment (gross fixed)(% of GDP)',\n",
       " 'Labor force',\n",
       " 'Life expectancy at birth(years)',\n",
       " 'Military expenditures - dollar figure',\n",
       " 'Military expenditures - percent of GDP(%)',\n",
       " 'Natural gas - consumption(cu m)',\n",
       " 'Natural gas - exports(cu m)',\n",
       " 'Natural gas - imports(cu m)',\n",
       " 'Natural gas - production(cu m)',\n",
       " 'Natural gas - proved reserves(cu m)',\n",
       " 'Oil - consumption(bbl/day)',\n",
       " 'Oil - exports(bbl/day)',\n",
       " 'Oil - imports(bbl/day)',\n",
       " 'Oil - production(bbl/day)',\n",
       " 'Oil - proved reserves(bbl)',\n",
       " 'Population',\n",
       " 'Public debt(% of GDP)',\n",
       " 'Railways(km)',\n",
       " 'Reserves of foreign exchange & gold',\n",
       " 'Telephones - main lines in use',\n",
       " 'Telephones - mobile cellular',\n",
       " 'Total fertility rate(children born/woman)',\n",
       " 'Unemployment rate(%)']"
      ]
     },
     "execution_count": 4,
     "metadata": {},
     "output_type": "execute_result"
    }
   ],
   "source": [
    "df.columns.to_list()"
   ]
  },
  {
   "cell_type": "code",
   "execution_count": 12,
   "metadata": {},
   "outputs": [
    {
     "name": "stdout",
     "output_type": "stream",
     "text": [
      "(187, 109)\n"
     ]
    }
   ],
   "source": [
    "print(df.shape)\n",
    "for estimation in estimations:\n",
    "    df[estimation + \"-percent-2015\"] = df[estimation + \"-mpw-2015\"] / df[estimation + \"-total-pw-2015\"]\n",
    "    for year in years[1:]:\n",
    "        df[estimation + \"-percent-\" + str(year)] = df[estimation + \"-mpw-scenarioB-\" + str(year)] / df[estimation + \"-total-pw-\" + str(year)]\n",
    "df['percent'] = df[\"midpoint-percent-2015\"]"
   ]
  },
  {
   "cell_type": "markdown",
   "metadata": {},
   "source": [
    "# 2. Figures"
   ]
  },
  {
   "cell_type": "markdown",
   "metadata": {},
   "source": [
    "## 2.1. Carte"
   ]
  },
  {
   "cell_type": "code",
   "execution_count": 13,
   "metadata": {},
   "outputs": [
    {
     "data": {
      "application/vnd.plotly.v1+json": {
       "config": {
        "plotlyServerURL": "https://plot.ly"
       },
       "data": [
        {
         "autocolorscale": false,
         "colorbar": {
          "tickprefix": "",
          "title": {
           "text": "% mismanaged plastic"
          }
         },
         "colorscale": [
          [
           0,
           "rgb(247,251,255)"
          ],
          [
           0.125,
           "rgb(222,235,247)"
          ],
          [
           0.25,
           "rgb(198,219,239)"
          ],
          [
           0.375,
           "rgb(158,202,225)"
          ],
          [
           0.5,
           "rgb(107,174,214)"
          ],
          [
           0.625,
           "rgb(66,146,198)"
          ],
          [
           0.75,
           "rgb(33,113,181)"
          ],
          [
           0.875,
           "rgb(8,81,156)"
          ],
          [
           1,
           "rgb(8,48,107)"
          ]
         ],
         "locations": [
          "AFG",
          "ALB",
          "DZA",
          "AGO",
          "ATG",
          "ARG",
          "ARM",
          "AUS",
          "AUT",
          "AZE",
          "BHM",
          "BHR",
          "BGD",
          "BRB",
          "BLR",
          "BEL",
          "BLZ",
          "BEN",
          "BTN",
          "BOL",
          "BIH",
          "BWA",
          "BRA",
          "BRN",
          "BGR",
          "BFA",
          "BDI",
          "KHM",
          "CMR",
          "CAN",
          "CAF",
          "TCD",
          "CHL",
          "CHN",
          "HKG",
          "MAC",
          "COL",
          "COM",
          "COG",
          "CRI",
          "CIV",
          "HRV",
          "CYP",
          "CZE",
          "COD",
          "DNK",
          "DJI",
          "DMA",
          "DOM",
          "ECU",
          "EGY",
          "SLV",
          "GNQ",
          "ERI",
          "EST",
          "ETH",
          "FJI",
          "FIN",
          "FRA",
          "GAB",
          "GMB",
          "GEO",
          "DEU",
          "GHA",
          "GRC",
          "GRD",
          "GTM",
          "GIN",
          "GNB",
          "GUY",
          "HTI",
          "HND",
          "HUN",
          "ISL",
          "IND",
          "IDN",
          "IRN",
          "IRQ",
          "IRL",
          "ISR",
          "ITA",
          "JAM",
          "JPN",
          "JOR",
          "KAZ",
          "KEN",
          "KIR",
          "KWT",
          "KGZ",
          "LAO",
          "LVA",
          "LBN",
          "LSO",
          "LBR",
          "LBY",
          "LTU",
          "LUX",
          "MDG",
          "MWI",
          "MYS",
          "MLI",
          "MLT",
          "MHL",
          "MRT",
          "MUS",
          "MEX",
          "FSM",
          "MNG",
          "MAR",
          "MOZ",
          "MMR",
          "NAM",
          "NPL",
          "NLD",
          "NZL",
          "NIC",
          "NER",
          "NGA",
          "NOR",
          "OMN",
          "PAK",
          "PLW",
          "PAN",
          "PNG",
          "PRY",
          "PER",
          "PHL",
          "POL",
          "PRT",
          "PRI",
          "QAT",
          "KOR",
          "MDA",
          "ROU",
          "RUS",
          "RWA",
          "KNA",
          "LCA",
          "VCT",
          "WSM",
          "SMR",
          "STP",
          "SAU",
          "SEN",
          "SRB",
          "SYC",
          "SLE",
          "SGP",
          "SVK",
          "SVN",
          "SLB",
          "ZAF",
          "SSD",
          "ESP",
          "LKA",
          "PSE",
          "SDN",
          "SUR",
          "SWZ",
          "SWE",
          "CHE",
          "TWN",
          "TJK",
          "MKD",
          "THA",
          "TLS",
          "TGO",
          "TON",
          "TTO",
          "TUN",
          "TUR",
          "TKM",
          "TUV",
          "UGA",
          "UKR",
          "ARE",
          "GBR",
          "TZA",
          "USA",
          "URY",
          "UZB",
          "VUT",
          "VEN",
          "VNM",
          "YEM",
          "ZMB",
          "ZWE"
         ],
         "marker": {
          "line": {
           "color": "darkgray",
           "width": 0.5
          }
         },
         "reversescale": false,
         "text": [
          "Afghanistan",
          "Albania",
          "Algeria",
          "Angola",
          "Antigua and Barbuda",
          "Argentina",
          "Armenia",
          "Australia",
          "Austria",
          "Azerbaijan",
          "Bahamas",
          "Bahrain",
          "Bangladesh",
          "Barbados",
          "Belarus",
          "Belgium",
          "Belize",
          "Benin",
          "Bhutan",
          "Bolivia",
          "Bosnia and Herzegovina",
          "Botswana",
          "Brazil",
          "Brunei",
          "Bulgaria",
          "Burkina Faso",
          "Burundi",
          "Cambodia",
          "Cameroon",
          "Canada",
          "Central African Republic",
          "Chad",
          "Chile",
          "China",
          "Hong Kong",
          "Macau",
          "Colombia",
          "Comoros",
          "Congo, Republic of the",
          "Costa Rica",
          "Cote d'Ivoire",
          "Croatia",
          "Cyprus",
          "Czech Republic",
          "Congo, Democratic Republic of the",
          "Denmark",
          "Djibouti",
          "Dominica",
          "Dominican Republic",
          "Ecuador",
          "Egypt",
          "El Salvador",
          "Equatorial Guinea",
          "Eritrea",
          "Estonia",
          "Ethiopia",
          "Fiji",
          "Finland",
          "France",
          "Gabon",
          "Gambia",
          "Georgia",
          "Germany",
          "Ghana",
          "Greece",
          "Grenada",
          "Guatemala",
          "Guinea",
          "Guinea-Bissau",
          "Guyana",
          "Haiti",
          "Honduras",
          "Hungary",
          "Iceland",
          "India",
          "Indonesia",
          "Iran",
          "Iraq",
          "Ireland",
          "Israel",
          "Italy",
          "Jamaica",
          "Japan",
          "Jordan",
          "Kazakhstan",
          "Kenya",
          "Kiribati",
          "Kuwait",
          "Kyrgyzstan",
          "Laos",
          "Latvia",
          "Lebanon",
          "Lesotho",
          "Liberia",
          "Libya",
          "Lithuania",
          "Luxembourg",
          "Madagascar",
          "Malawi",
          "Malaysia",
          "Mali",
          "Malta",
          "Marshall Islands",
          "Mauritania",
          "Mauritius",
          "Mexico",
          "Micronesia",
          "Mongolia",
          "Morocco",
          "Mozambique",
          "Myanmar",
          "Namibia",
          "Nepal",
          "Netherlands",
          "New Zealand",
          "Nicaragua",
          "Niger",
          "Nigeria",
          "Norway",
          "Oman",
          "Pakistan",
          "Palau",
          "Panama",
          "Papua New Guinea",
          "Paraguay",
          "Peru",
          "Philippines",
          "Poland",
          "Portugal",
          "Puerto Rico",
          "Qatar",
          "Korea, South",
          "Moldova",
          "Romania",
          "Russia",
          "Rwanda",
          "Saint Kitts and Nevis",
          "Saint Lucia",
          "Saint Vincent and the Grenadines",
          "Samoa",
          "San Marino",
          "Sao Tome and Principe",
          "Saudi Arabia",
          "Senegal",
          "Serbia",
          "Seychelles",
          "Sierra Leone",
          "Singapore",
          "Slovakia",
          "Slovenia",
          "Solomon Islands",
          "South Africa",
          "South Sudan",
          "Spain",
          "Sri Lanka",
          "State of Palestine",
          "Sudan",
          "Suriname",
          "Swaziland",
          "Sweden",
          "Switzerland",
          "Taiwan",
          "Tajikistan",
          "Macedonia",
          "Thailand",
          "Timor-Leste",
          "Togo",
          "Tonga",
          "Trinidad and Tobago",
          "Tunisia",
          "Turkey",
          "Turkmenistan",
          "Tuvalu",
          "Uganda",
          "Ukraine",
          "United Arab Emirates",
          "United Kingdom",
          "Tanzania",
          "United States",
          "Uruguay",
          "Uzbekistan",
          "Vanuatu",
          "Venezuela",
          "Vietnam",
          "Yemen",
          "Zambia",
          "Zimbabwe"
         ],
         "type": "choropleth",
         "z": [
          97.8728806016,
          100,
          80,
          90,
          28.7136420896,
          33.300000000000004,
          2,
          2,
          2,
          22,
          26.936974178399996,
          2,
          100,
          18,
          49.228846835999995,
          2,
          100,
          100,
          52,
          28.9,
          62,
          40,
          42.02,
          2,
          17.1,
          98.3943801984,
          100,
          92.3049163816,
          95,
          2,
          100,
          95.9235179136,
          17.8,
          70,
          2,
          79,
          17.8,
          99.21322709999998,
          82.7541849368,
          32.6,
          92.7894991712,
          27.200000000000003,
          12.8,
          2,
          100,
          2,
          93.4520639832,
          68.0496818872,
          66.10000000000001,
          67.60000000000001,
          83.5,
          21.099999999999998,
          2,
          99.86276631759999,
          5,
          98.0018280384,
          74.72014794399999,
          2,
          2,
          43.733163552,
          98.79056049200001,
          2,
          2,
          90.28723897440001,
          2,
          59.8536059992,
          79.4,
          100,
          99.09057489759999,
          79.20809286000001,
          100,
          88.7,
          90,
          2,
          85,
          25,
          47.2282582824,
          52.211376131200005,
          2,
          2,
          2,
          86.4,
          2,
          40,
          23.6450048432,
          93.48052244959999,
          98.3003242,
          2,
          93.1458357336,
          100,
          2,
          30,
          94.2724604328,
          100,
          59.4354722104,
          10.4585172744,
          2,
          99.28967146800001,
          100,
          85,
          96.91052677280001,
          13,
          93.85841807680002,
          54.7,
          2,
          30.4,
          94.50670200400008,
          65.9309457768,
          62,
          100,
          100,
          67.19809100159999,
          63,
          2,
          2,
          83.7,
          100,
          100,
          2,
          2,
          95,
          56.22879062319986,
          44.1,
          92.9118195512,
          63.6,
          56.49999999999999,
          85,
          17.2419406848,
          2,
          2,
          2,
          2,
          100,
          34.13127198000001,
          22.268089012,
          98.03523253679998,
          24.5762143224,
          30,
          68.73003676239999,
          87.194416296,
          2,
          93.5318109232,
          2,
          95.92960341119999,
          40,
          15.884614896800006,
          98.829455712,
          2,
          7.000000000000001,
          14.000000000000002,
          97.7526701112,
          62.7436225832,
          98.7697370712,
          2,
          95,
          76,
          90.0626578176,
          100,
          73.421720632,
          2,
          2,
          2,
          94.6645461632,
          58.514893569600005,
          60,
          90.8947588328,
          99.1607271616,
          87.30811242400002,
          100,
          100,
          69,
          49.6964722488,
          92.83443919359999,
          97.52950389520001,
          78.23825737519999,
          2,
          2,
          94.30399921280001,
          2,
          86.3,
          83.8000108816,
          95.762790656,
          87,
          83.8974070168,
          68,
          91.79560343200001,
          97.88527698559999
         ]
        }
       ],
       "layout": {
        "geo": {
         "projection": {
          "type": "equirectangular"
         },
         "showcoastlines": false,
         "showframe": false
        },
        "template": {
         "data": {
          "bar": [
           {
            "error_x": {
             "color": "#2a3f5f"
            },
            "error_y": {
             "color": "#2a3f5f"
            },
            "marker": {
             "line": {
              "color": "#E5ECF6",
              "width": 0.5
             }
            },
            "type": "bar"
           }
          ],
          "barpolar": [
           {
            "marker": {
             "line": {
              "color": "#E5ECF6",
              "width": 0.5
             }
            },
            "type": "barpolar"
           }
          ],
          "carpet": [
           {
            "aaxis": {
             "endlinecolor": "#2a3f5f",
             "gridcolor": "white",
             "linecolor": "white",
             "minorgridcolor": "white",
             "startlinecolor": "#2a3f5f"
            },
            "baxis": {
             "endlinecolor": "#2a3f5f",
             "gridcolor": "white",
             "linecolor": "white",
             "minorgridcolor": "white",
             "startlinecolor": "#2a3f5f"
            },
            "type": "carpet"
           }
          ],
          "choropleth": [
           {
            "colorbar": {
             "outlinewidth": 0,
             "ticks": ""
            },
            "type": "choropleth"
           }
          ],
          "contour": [
           {
            "colorbar": {
             "outlinewidth": 0,
             "ticks": ""
            },
            "colorscale": [
             [
              0,
              "#0d0887"
             ],
             [
              0.1111111111111111,
              "#46039f"
             ],
             [
              0.2222222222222222,
              "#7201a8"
             ],
             [
              0.3333333333333333,
              "#9c179e"
             ],
             [
              0.4444444444444444,
              "#bd3786"
             ],
             [
              0.5555555555555556,
              "#d8576b"
             ],
             [
              0.6666666666666666,
              "#ed7953"
             ],
             [
              0.7777777777777778,
              "#fb9f3a"
             ],
             [
              0.8888888888888888,
              "#fdca26"
             ],
             [
              1,
              "#f0f921"
             ]
            ],
            "type": "contour"
           }
          ],
          "contourcarpet": [
           {
            "colorbar": {
             "outlinewidth": 0,
             "ticks": ""
            },
            "type": "contourcarpet"
           }
          ],
          "heatmap": [
           {
            "colorbar": {
             "outlinewidth": 0,
             "ticks": ""
            },
            "colorscale": [
             [
              0,
              "#0d0887"
             ],
             [
              0.1111111111111111,
              "#46039f"
             ],
             [
              0.2222222222222222,
              "#7201a8"
             ],
             [
              0.3333333333333333,
              "#9c179e"
             ],
             [
              0.4444444444444444,
              "#bd3786"
             ],
             [
              0.5555555555555556,
              "#d8576b"
             ],
             [
              0.6666666666666666,
              "#ed7953"
             ],
             [
              0.7777777777777778,
              "#fb9f3a"
             ],
             [
              0.8888888888888888,
              "#fdca26"
             ],
             [
              1,
              "#f0f921"
             ]
            ],
            "type": "heatmap"
           }
          ],
          "heatmapgl": [
           {
            "colorbar": {
             "outlinewidth": 0,
             "ticks": ""
            },
            "colorscale": [
             [
              0,
              "#0d0887"
             ],
             [
              0.1111111111111111,
              "#46039f"
             ],
             [
              0.2222222222222222,
              "#7201a8"
             ],
             [
              0.3333333333333333,
              "#9c179e"
             ],
             [
              0.4444444444444444,
              "#bd3786"
             ],
             [
              0.5555555555555556,
              "#d8576b"
             ],
             [
              0.6666666666666666,
              "#ed7953"
             ],
             [
              0.7777777777777778,
              "#fb9f3a"
             ],
             [
              0.8888888888888888,
              "#fdca26"
             ],
             [
              1,
              "#f0f921"
             ]
            ],
            "type": "heatmapgl"
           }
          ],
          "histogram": [
           {
            "marker": {
             "colorbar": {
              "outlinewidth": 0,
              "ticks": ""
             }
            },
            "type": "histogram"
           }
          ],
          "histogram2d": [
           {
            "colorbar": {
             "outlinewidth": 0,
             "ticks": ""
            },
            "colorscale": [
             [
              0,
              "#0d0887"
             ],
             [
              0.1111111111111111,
              "#46039f"
             ],
             [
              0.2222222222222222,
              "#7201a8"
             ],
             [
              0.3333333333333333,
              "#9c179e"
             ],
             [
              0.4444444444444444,
              "#bd3786"
             ],
             [
              0.5555555555555556,
              "#d8576b"
             ],
             [
              0.6666666666666666,
              "#ed7953"
             ],
             [
              0.7777777777777778,
              "#fb9f3a"
             ],
             [
              0.8888888888888888,
              "#fdca26"
             ],
             [
              1,
              "#f0f921"
             ]
            ],
            "type": "histogram2d"
           }
          ],
          "histogram2dcontour": [
           {
            "colorbar": {
             "outlinewidth": 0,
             "ticks": ""
            },
            "colorscale": [
             [
              0,
              "#0d0887"
             ],
             [
              0.1111111111111111,
              "#46039f"
             ],
             [
              0.2222222222222222,
              "#7201a8"
             ],
             [
              0.3333333333333333,
              "#9c179e"
             ],
             [
              0.4444444444444444,
              "#bd3786"
             ],
             [
              0.5555555555555556,
              "#d8576b"
             ],
             [
              0.6666666666666666,
              "#ed7953"
             ],
             [
              0.7777777777777778,
              "#fb9f3a"
             ],
             [
              0.8888888888888888,
              "#fdca26"
             ],
             [
              1,
              "#f0f921"
             ]
            ],
            "type": "histogram2dcontour"
           }
          ],
          "mesh3d": [
           {
            "colorbar": {
             "outlinewidth": 0,
             "ticks": ""
            },
            "type": "mesh3d"
           }
          ],
          "parcoords": [
           {
            "line": {
             "colorbar": {
              "outlinewidth": 0,
              "ticks": ""
             }
            },
            "type": "parcoords"
           }
          ],
          "pie": [
           {
            "automargin": true,
            "type": "pie"
           }
          ],
          "scatter": [
           {
            "marker": {
             "colorbar": {
              "outlinewidth": 0,
              "ticks": ""
             }
            },
            "type": "scatter"
           }
          ],
          "scatter3d": [
           {
            "line": {
             "colorbar": {
              "outlinewidth": 0,
              "ticks": ""
             }
            },
            "marker": {
             "colorbar": {
              "outlinewidth": 0,
              "ticks": ""
             }
            },
            "type": "scatter3d"
           }
          ],
          "scattercarpet": [
           {
            "marker": {
             "colorbar": {
              "outlinewidth": 0,
              "ticks": ""
             }
            },
            "type": "scattercarpet"
           }
          ],
          "scattergeo": [
           {
            "marker": {
             "colorbar": {
              "outlinewidth": 0,
              "ticks": ""
             }
            },
            "type": "scattergeo"
           }
          ],
          "scattergl": [
           {
            "marker": {
             "colorbar": {
              "outlinewidth": 0,
              "ticks": ""
             }
            },
            "type": "scattergl"
           }
          ],
          "scattermapbox": [
           {
            "marker": {
             "colorbar": {
              "outlinewidth": 0,
              "ticks": ""
             }
            },
            "type": "scattermapbox"
           }
          ],
          "scatterpolar": [
           {
            "marker": {
             "colorbar": {
              "outlinewidth": 0,
              "ticks": ""
             }
            },
            "type": "scatterpolar"
           }
          ],
          "scatterpolargl": [
           {
            "marker": {
             "colorbar": {
              "outlinewidth": 0,
              "ticks": ""
             }
            },
            "type": "scatterpolargl"
           }
          ],
          "scatterternary": [
           {
            "marker": {
             "colorbar": {
              "outlinewidth": 0,
              "ticks": ""
             }
            },
            "type": "scatterternary"
           }
          ],
          "surface": [
           {
            "colorbar": {
             "outlinewidth": 0,
             "ticks": ""
            },
            "colorscale": [
             [
              0,
              "#0d0887"
             ],
             [
              0.1111111111111111,
              "#46039f"
             ],
             [
              0.2222222222222222,
              "#7201a8"
             ],
             [
              0.3333333333333333,
              "#9c179e"
             ],
             [
              0.4444444444444444,
              "#bd3786"
             ],
             [
              0.5555555555555556,
              "#d8576b"
             ],
             [
              0.6666666666666666,
              "#ed7953"
             ],
             [
              0.7777777777777778,
              "#fb9f3a"
             ],
             [
              0.8888888888888888,
              "#fdca26"
             ],
             [
              1,
              "#f0f921"
             ]
            ],
            "type": "surface"
           }
          ],
          "table": [
           {
            "cells": {
             "fill": {
              "color": "#EBF0F8"
             },
             "line": {
              "color": "white"
             }
            },
            "header": {
             "fill": {
              "color": "#C8D4E3"
             },
             "line": {
              "color": "white"
             }
            },
            "type": "table"
           }
          ]
         },
         "layout": {
          "annotationdefaults": {
           "arrowcolor": "#2a3f5f",
           "arrowhead": 0,
           "arrowwidth": 1
          },
          "coloraxis": {
           "colorbar": {
            "outlinewidth": 0,
            "ticks": ""
           }
          },
          "colorscale": {
           "diverging": [
            [
             0,
             "#8e0152"
            ],
            [
             0.1,
             "#c51b7d"
            ],
            [
             0.2,
             "#de77ae"
            ],
            [
             0.3,
             "#f1b6da"
            ],
            [
             0.4,
             "#fde0ef"
            ],
            [
             0.5,
             "#f7f7f7"
            ],
            [
             0.6,
             "#e6f5d0"
            ],
            [
             0.7,
             "#b8e186"
            ],
            [
             0.8,
             "#7fbc41"
            ],
            [
             0.9,
             "#4d9221"
            ],
            [
             1,
             "#276419"
            ]
           ],
           "sequential": [
            [
             0,
             "#0d0887"
            ],
            [
             0.1111111111111111,
             "#46039f"
            ],
            [
             0.2222222222222222,
             "#7201a8"
            ],
            [
             0.3333333333333333,
             "#9c179e"
            ],
            [
             0.4444444444444444,
             "#bd3786"
            ],
            [
             0.5555555555555556,
             "#d8576b"
            ],
            [
             0.6666666666666666,
             "#ed7953"
            ],
            [
             0.7777777777777778,
             "#fb9f3a"
            ],
            [
             0.8888888888888888,
             "#fdca26"
            ],
            [
             1,
             "#f0f921"
            ]
           ],
           "sequentialminus": [
            [
             0,
             "#0d0887"
            ],
            [
             0.1111111111111111,
             "#46039f"
            ],
            [
             0.2222222222222222,
             "#7201a8"
            ],
            [
             0.3333333333333333,
             "#9c179e"
            ],
            [
             0.4444444444444444,
             "#bd3786"
            ],
            [
             0.5555555555555556,
             "#d8576b"
            ],
            [
             0.6666666666666666,
             "#ed7953"
            ],
            [
             0.7777777777777778,
             "#fb9f3a"
            ],
            [
             0.8888888888888888,
             "#fdca26"
            ],
            [
             1,
             "#f0f921"
            ]
           ]
          },
          "colorway": [
           "#636efa",
           "#EF553B",
           "#00cc96",
           "#ab63fa",
           "#FFA15A",
           "#19d3f3",
           "#FF6692",
           "#B6E880",
           "#FF97FF",
           "#FECB52"
          ],
          "font": {
           "color": "#2a3f5f"
          },
          "geo": {
           "bgcolor": "white",
           "lakecolor": "white",
           "landcolor": "#E5ECF6",
           "showlakes": true,
           "showland": true,
           "subunitcolor": "white"
          },
          "hoverlabel": {
           "align": "left"
          },
          "hovermode": "closest",
          "mapbox": {
           "style": "light"
          },
          "paper_bgcolor": "white",
          "plot_bgcolor": "#E5ECF6",
          "polar": {
           "angularaxis": {
            "gridcolor": "white",
            "linecolor": "white",
            "ticks": ""
           },
           "bgcolor": "#E5ECF6",
           "radialaxis": {
            "gridcolor": "white",
            "linecolor": "white",
            "ticks": ""
           }
          },
          "scene": {
           "xaxis": {
            "backgroundcolor": "#E5ECF6",
            "gridcolor": "white",
            "gridwidth": 2,
            "linecolor": "white",
            "showbackground": true,
            "ticks": "",
            "zerolinecolor": "white"
           },
           "yaxis": {
            "backgroundcolor": "#E5ECF6",
            "gridcolor": "white",
            "gridwidth": 2,
            "linecolor": "white",
            "showbackground": true,
            "ticks": "",
            "zerolinecolor": "white"
           },
           "zaxis": {
            "backgroundcolor": "#E5ECF6",
            "gridcolor": "white",
            "gridwidth": 2,
            "linecolor": "white",
            "showbackground": true,
            "ticks": "",
            "zerolinecolor": "white"
           }
          },
          "shapedefaults": {
           "line": {
            "color": "#2a3f5f"
           }
          },
          "ternary": {
           "aaxis": {
            "gridcolor": "white",
            "linecolor": "white",
            "ticks": ""
           },
           "baxis": {
            "gridcolor": "white",
            "linecolor": "white",
            "ticks": ""
           },
           "bgcolor": "#E5ECF6",
           "caxis": {
            "gridcolor": "white",
            "linecolor": "white",
            "ticks": ""
           }
          },
          "title": {
           "x": 0.05
          },
          "xaxis": {
           "automargin": true,
           "gridcolor": "white",
           "linecolor": "white",
           "ticks": "",
           "title": {
            "standoff": 15
           },
           "zerolinecolor": "white",
           "zerolinewidth": 2
          },
          "yaxis": {
           "automargin": true,
           "gridcolor": "white",
           "linecolor": "white",
           "ticks": "",
           "title": {
            "standoff": 15
           },
           "zerolinecolor": "white",
           "zerolinewidth": 2
          }
         }
        },
        "title": {
         "text": "2015 Mismanaged plastic proportion (midpoint)"
        }
       }
      },
      "text/html": [
       "<div>\n",
       "        \n",
       "        \n",
       "            <div id=\"91eb699d-d612-4d99-86ac-c57efdd2e19d\" class=\"plotly-graph-div\" style=\"height:525px; width:100%;\"></div>\n",
       "            <script type=\"text/javascript\">\n",
       "                require([\"plotly\"], function(Plotly) {\n",
       "                    window.PLOTLYENV=window.PLOTLYENV || {};\n",
       "                    \n",
       "                if (document.getElementById(\"91eb699d-d612-4d99-86ac-c57efdd2e19d\")) {\n",
       "                    Plotly.newPlot(\n",
       "                        '91eb699d-d612-4d99-86ac-c57efdd2e19d',\n",
       "                        [{\"autocolorscale\": false, \"colorbar\": {\"tickprefix\": \"\", \"title\": {\"text\": \"% mismanaged plastic\"}}, \"colorscale\": [[0.0, \"rgb(247,251,255)\"], [0.125, \"rgb(222,235,247)\"], [0.25, \"rgb(198,219,239)\"], [0.375, \"rgb(158,202,225)\"], [0.5, \"rgb(107,174,214)\"], [0.625, \"rgb(66,146,198)\"], [0.75, \"rgb(33,113,181)\"], [0.875, \"rgb(8,81,156)\"], [1.0, \"rgb(8,48,107)\"]], \"locations\": [\"AFG\", \"ALB\", \"DZA\", \"AGO\", \"ATG\", \"ARG\", \"ARM\", \"AUS\", \"AUT\", \"AZE\", \"BHM\", \"BHR\", \"BGD\", \"BRB\", \"BLR\", \"BEL\", \"BLZ\", \"BEN\", \"BTN\", \"BOL\", \"BIH\", \"BWA\", \"BRA\", \"BRN\", \"BGR\", \"BFA\", \"BDI\", \"KHM\", \"CMR\", \"CAN\", \"CAF\", \"TCD\", \"CHL\", \"CHN\", \"HKG\", \"MAC\", \"COL\", \"COM\", \"COG\", \"CRI\", \"CIV\", \"HRV\", \"CYP\", \"CZE\", \"COD\", \"DNK\", \"DJI\", \"DMA\", \"DOM\", \"ECU\", \"EGY\", \"SLV\", \"GNQ\", \"ERI\", \"EST\", \"ETH\", \"FJI\", \"FIN\", \"FRA\", \"GAB\", \"GMB\", \"GEO\", \"DEU\", \"GHA\", \"GRC\", \"GRD\", \"GTM\", \"GIN\", \"GNB\", \"GUY\", \"HTI\", \"HND\", \"HUN\", \"ISL\", \"IND\", \"IDN\", \"IRN\", \"IRQ\", \"IRL\", \"ISR\", \"ITA\", \"JAM\", \"JPN\", \"JOR\", \"KAZ\", \"KEN\", \"KIR\", \"KWT\", \"KGZ\", \"LAO\", \"LVA\", \"LBN\", \"LSO\", \"LBR\", \"LBY\", \"LTU\", \"LUX\", \"MDG\", \"MWI\", \"MYS\", \"MLI\", \"MLT\", \"MHL\", \"MRT\", \"MUS\", \"MEX\", \"FSM\", \"MNG\", \"MAR\", \"MOZ\", \"MMR\", \"NAM\", \"NPL\", \"NLD\", \"NZL\", \"NIC\", \"NER\", \"NGA\", \"NOR\", \"OMN\", \"PAK\", \"PLW\", \"PAN\", \"PNG\", \"PRY\", \"PER\", \"PHL\", \"POL\", \"PRT\", \"PRI\", \"QAT\", \"KOR\", \"MDA\", \"ROU\", \"RUS\", \"RWA\", \"KNA\", \"LCA\", \"VCT\", \"WSM\", \"SMR\", \"STP\", \"SAU\", \"SEN\", \"SRB\", \"SYC\", \"SLE\", \"SGP\", \"SVK\", \"SVN\", \"SLB\", \"ZAF\", \"SSD\", \"ESP\", \"LKA\", \"PSE\", \"SDN\", \"SUR\", \"SWZ\", \"SWE\", \"CHE\", \"TWN\", \"TJK\", \"MKD\", \"THA\", \"TLS\", \"TGO\", \"TON\", \"TTO\", \"TUN\", \"TUR\", \"TKM\", \"TUV\", \"UGA\", \"UKR\", \"ARE\", \"GBR\", \"TZA\", \"USA\", \"URY\", \"UZB\", \"VUT\", \"VEN\", \"VNM\", \"YEM\", \"ZMB\", \"ZWE\"], \"marker\": {\"line\": {\"color\": \"darkgray\", \"width\": 0.5}}, \"reversescale\": false, \"text\": [\"Afghanistan\", \"Albania\", \"Algeria\", \"Angola\", \"Antigua and Barbuda\", \"Argentina\", \"Armenia\", \"Australia\", \"Austria\", \"Azerbaijan\", \"Bahamas\", \"Bahrain\", \"Bangladesh\", \"Barbados\", \"Belarus\", \"Belgium\", \"Belize\", \"Benin\", \"Bhutan\", \"Bolivia\", \"Bosnia and Herzegovina\", \"Botswana\", \"Brazil\", \"Brunei\", \"Bulgaria\", \"Burkina Faso\", \"Burundi\", \"Cambodia\", \"Cameroon\", \"Canada\", \"Central African Republic\", \"Chad\", \"Chile\", \"China\", \"Hong Kong\", \"Macau\", \"Colombia\", \"Comoros\", \"Congo, Republic of the\", \"Costa Rica\", \"Cote d'Ivoire\", \"Croatia\", \"Cyprus\", \"Czech Republic\", \"Congo, Democratic Republic of the\", \"Denmark\", \"Djibouti\", \"Dominica\", \"Dominican Republic\", \"Ecuador\", \"Egypt\", \"El Salvador\", \"Equatorial Guinea\", \"Eritrea\", \"Estonia\", \"Ethiopia\", \"Fiji\", \"Finland\", \"France\", \"Gabon\", \"Gambia\", \"Georgia\", \"Germany\", \"Ghana\", \"Greece\", \"Grenada\", \"Guatemala\", \"Guinea\", \"Guinea-Bissau\", \"Guyana\", \"Haiti\", \"Honduras\", \"Hungary\", \"Iceland\", \"India\", \"Indonesia\", \"Iran\", \"Iraq\", \"Ireland\", \"Israel\", \"Italy\", \"Jamaica\", \"Japan\", \"Jordan\", \"Kazakhstan\", \"Kenya\", \"Kiribati\", \"Kuwait\", \"Kyrgyzstan\", \"Laos\", \"Latvia\", \"Lebanon\", \"Lesotho\", \"Liberia\", \"Libya\", \"Lithuania\", \"Luxembourg\", \"Madagascar\", \"Malawi\", \"Malaysia\", \"Mali\", \"Malta\", \"Marshall Islands\", \"Mauritania\", \"Mauritius\", \"Mexico\", \"Micronesia\", \"Mongolia\", \"Morocco\", \"Mozambique\", \"Myanmar\", \"Namibia\", \"Nepal\", \"Netherlands\", \"New Zealand\", \"Nicaragua\", \"Niger\", \"Nigeria\", \"Norway\", \"Oman\", \"Pakistan\", \"Palau\", \"Panama\", \"Papua New Guinea\", \"Paraguay\", \"Peru\", \"Philippines\", \"Poland\", \"Portugal\", \"Puerto Rico\", \"Qatar\", \"Korea, South\", \"Moldova\", \"Romania\", \"Russia\", \"Rwanda\", \"Saint Kitts and Nevis\", \"Saint Lucia\", \"Saint Vincent and the Grenadines\", \"Samoa\", \"San Marino\", \"Sao Tome and Principe\", \"Saudi Arabia\", \"Senegal\", \"Serbia\", \"Seychelles\", \"Sierra Leone\", \"Singapore\", \"Slovakia\", \"Slovenia\", \"Solomon Islands\", \"South Africa\", \"South Sudan\", \"Spain\", \"Sri Lanka\", \"State of Palestine\", \"Sudan\", \"Suriname\", \"Swaziland\", \"Sweden\", \"Switzerland\", \"Taiwan\", \"Tajikistan\", \"Macedonia\", \"Thailand\", \"Timor-Leste\", \"Togo\", \"Tonga\", \"Trinidad and Tobago\", \"Tunisia\", \"Turkey\", \"Turkmenistan\", \"Tuvalu\", \"Uganda\", \"Ukraine\", \"United Arab Emirates\", \"United Kingdom\", \"Tanzania\", \"United States\", \"Uruguay\", \"Uzbekistan\", \"Vanuatu\", \"Venezuela\", \"Vietnam\", \"Yemen\", \"Zambia\", \"Zimbabwe\"], \"type\": \"choropleth\", \"z\": [97.8728806016, 100.0, 80.0, 90.0, 28.7136420896, 33.300000000000004, 2.0, 2.0, 2.0, 22.0, 26.936974178399996, 2.0, 100.0, 18.0, 49.228846835999995, 2.0, 100.0, 100.0, 52.0, 28.9, 62.0, 40.0, 42.02, 2.0, 17.1, 98.3943801984, 100.0, 92.3049163816, 95.0, 2.0, 100.0, 95.9235179136, 17.8, 70.0, 2.0, 79.0, 17.8, 99.21322709999998, 82.7541849368, 32.6, 92.7894991712, 27.200000000000003, 12.8, 2.0, 100.0, 2.0, 93.4520639832, 68.0496818872, 66.10000000000001, 67.60000000000001, 83.5, 21.099999999999998, 2.0, 99.86276631759999, 5.0, 98.0018280384, 74.72014794399999, 2.0, 2.0, 43.733163552, 98.79056049200001, 2.0, 2.0, 90.28723897440001, 2.0, 59.8536059992, 79.4, 100.0, 99.09057489759999, 79.20809286000001, 100.0, 88.7, 90.0, 2.0, 85.0, 25.0, 47.2282582824, 52.211376131200005, 2.0, 2.0, 2.0, 86.4, 2.0, 40.0, 23.6450048432, 93.48052244959999, 98.3003242, 2.0, 93.1458357336, 100.0, 2.0, 30.0, 94.2724604328, 100.0, 59.4354722104, 10.4585172744, 2.0, 99.28967146800001, 100.0, 85.0, 96.91052677280001, 13.0, 93.85841807680002, 54.7, 2.0, 30.4, 94.50670200400008, 65.9309457768, 62.0, 100.0, 100.0, 67.19809100159999, 63.0, 2.0, 2.0, 83.7, 100.0, 100.0, 2.0, 2.0, 95.0, 56.22879062319986, 44.1, 92.9118195512, 63.6, 56.49999999999999, 85.0, 17.2419406848, 2.0, 2.0, 2.0, 2.0, 100.0, 34.13127198000001, 22.268089012, 98.03523253679998, 24.5762143224, 30.0, 68.73003676239999, 87.194416296, 2.0, 93.5318109232, 2.0, 95.92960341119999, 40.0, 15.884614896800006, 98.829455712, 2.0, 7.000000000000001, 14.000000000000002, 97.7526701112, 62.7436225832, 98.7697370712, 2.0, 95.0, 76.0, 90.0626578176, 100.0, 73.421720632, 2.0, 2.0, 2.0, 94.6645461632, 58.514893569600005, 60.0, 90.8947588328, 99.1607271616, 87.30811242400002, 100.0, 100.0, 69.0, 49.6964722488, 92.83443919359999, 97.52950389520001, 78.23825737519999, 2.0, 2.0, 94.30399921280001, 2.0, 86.3, 83.8000108816, 95.762790656, 87.0, 83.8974070168, 68.0, 91.79560343200001, 97.88527698559999]}],\n",
       "                        {\"geo\": {\"projection\": {\"type\": \"equirectangular\"}, \"showcoastlines\": false, \"showframe\": false}, \"template\": {\"data\": {\"bar\": [{\"error_x\": {\"color\": \"#2a3f5f\"}, \"error_y\": {\"color\": \"#2a3f5f\"}, \"marker\": {\"line\": {\"color\": \"#E5ECF6\", \"width\": 0.5}}, \"type\": \"bar\"}], \"barpolar\": [{\"marker\": {\"line\": {\"color\": \"#E5ECF6\", \"width\": 0.5}}, \"type\": \"barpolar\"}], \"carpet\": [{\"aaxis\": {\"endlinecolor\": \"#2a3f5f\", \"gridcolor\": \"white\", \"linecolor\": \"white\", \"minorgridcolor\": \"white\", \"startlinecolor\": \"#2a3f5f\"}, \"baxis\": {\"endlinecolor\": \"#2a3f5f\", \"gridcolor\": \"white\", \"linecolor\": \"white\", \"minorgridcolor\": \"white\", \"startlinecolor\": \"#2a3f5f\"}, \"type\": \"carpet\"}], \"choropleth\": [{\"colorbar\": {\"outlinewidth\": 0, \"ticks\": \"\"}, \"type\": \"choropleth\"}], \"contour\": [{\"colorbar\": {\"outlinewidth\": 0, \"ticks\": \"\"}, \"colorscale\": [[0.0, \"#0d0887\"], [0.1111111111111111, \"#46039f\"], [0.2222222222222222, \"#7201a8\"], [0.3333333333333333, \"#9c179e\"], [0.4444444444444444, \"#bd3786\"], [0.5555555555555556, \"#d8576b\"], [0.6666666666666666, \"#ed7953\"], [0.7777777777777778, \"#fb9f3a\"], [0.8888888888888888, \"#fdca26\"], [1.0, \"#f0f921\"]], \"type\": \"contour\"}], \"contourcarpet\": [{\"colorbar\": {\"outlinewidth\": 0, \"ticks\": \"\"}, \"type\": \"contourcarpet\"}], \"heatmap\": [{\"colorbar\": {\"outlinewidth\": 0, \"ticks\": \"\"}, \"colorscale\": [[0.0, \"#0d0887\"], [0.1111111111111111, \"#46039f\"], [0.2222222222222222, \"#7201a8\"], [0.3333333333333333, \"#9c179e\"], [0.4444444444444444, \"#bd3786\"], [0.5555555555555556, \"#d8576b\"], [0.6666666666666666, \"#ed7953\"], [0.7777777777777778, \"#fb9f3a\"], [0.8888888888888888, \"#fdca26\"], [1.0, \"#f0f921\"]], \"type\": \"heatmap\"}], \"heatmapgl\": [{\"colorbar\": {\"outlinewidth\": 0, \"ticks\": \"\"}, \"colorscale\": [[0.0, \"#0d0887\"], [0.1111111111111111, \"#46039f\"], [0.2222222222222222, \"#7201a8\"], [0.3333333333333333, \"#9c179e\"], [0.4444444444444444, \"#bd3786\"], [0.5555555555555556, \"#d8576b\"], [0.6666666666666666, \"#ed7953\"], [0.7777777777777778, \"#fb9f3a\"], [0.8888888888888888, \"#fdca26\"], [1.0, \"#f0f921\"]], \"type\": \"heatmapgl\"}], \"histogram\": [{\"marker\": {\"colorbar\": {\"outlinewidth\": 0, \"ticks\": \"\"}}, \"type\": \"histogram\"}], \"histogram2d\": [{\"colorbar\": {\"outlinewidth\": 0, \"ticks\": \"\"}, \"colorscale\": [[0.0, \"#0d0887\"], [0.1111111111111111, \"#46039f\"], [0.2222222222222222, \"#7201a8\"], [0.3333333333333333, \"#9c179e\"], [0.4444444444444444, \"#bd3786\"], [0.5555555555555556, \"#d8576b\"], [0.6666666666666666, \"#ed7953\"], [0.7777777777777778, \"#fb9f3a\"], [0.8888888888888888, \"#fdca26\"], [1.0, \"#f0f921\"]], \"type\": \"histogram2d\"}], \"histogram2dcontour\": [{\"colorbar\": {\"outlinewidth\": 0, \"ticks\": \"\"}, \"colorscale\": [[0.0, \"#0d0887\"], [0.1111111111111111, \"#46039f\"], [0.2222222222222222, \"#7201a8\"], [0.3333333333333333, \"#9c179e\"], [0.4444444444444444, \"#bd3786\"], [0.5555555555555556, \"#d8576b\"], [0.6666666666666666, \"#ed7953\"], [0.7777777777777778, \"#fb9f3a\"], [0.8888888888888888, \"#fdca26\"], [1.0, \"#f0f921\"]], \"type\": \"histogram2dcontour\"}], \"mesh3d\": [{\"colorbar\": {\"outlinewidth\": 0, \"ticks\": \"\"}, \"type\": \"mesh3d\"}], \"parcoords\": [{\"line\": {\"colorbar\": {\"outlinewidth\": 0, \"ticks\": \"\"}}, \"type\": \"parcoords\"}], \"pie\": [{\"automargin\": true, \"type\": \"pie\"}], \"scatter\": [{\"marker\": {\"colorbar\": {\"outlinewidth\": 0, \"ticks\": \"\"}}, \"type\": \"scatter\"}], \"scatter3d\": [{\"line\": {\"colorbar\": {\"outlinewidth\": 0, \"ticks\": \"\"}}, \"marker\": {\"colorbar\": {\"outlinewidth\": 0, \"ticks\": \"\"}}, \"type\": \"scatter3d\"}], \"scattercarpet\": [{\"marker\": {\"colorbar\": {\"outlinewidth\": 0, \"ticks\": \"\"}}, \"type\": \"scattercarpet\"}], \"scattergeo\": [{\"marker\": {\"colorbar\": {\"outlinewidth\": 0, \"ticks\": \"\"}}, \"type\": \"scattergeo\"}], \"scattergl\": [{\"marker\": {\"colorbar\": {\"outlinewidth\": 0, \"ticks\": \"\"}}, \"type\": \"scattergl\"}], \"scattermapbox\": [{\"marker\": {\"colorbar\": {\"outlinewidth\": 0, \"ticks\": \"\"}}, \"type\": \"scattermapbox\"}], \"scatterpolar\": [{\"marker\": {\"colorbar\": {\"outlinewidth\": 0, \"ticks\": \"\"}}, \"type\": \"scatterpolar\"}], \"scatterpolargl\": [{\"marker\": {\"colorbar\": {\"outlinewidth\": 0, \"ticks\": \"\"}}, \"type\": \"scatterpolargl\"}], \"scatterternary\": [{\"marker\": {\"colorbar\": {\"outlinewidth\": 0, \"ticks\": \"\"}}, \"type\": \"scatterternary\"}], \"surface\": [{\"colorbar\": {\"outlinewidth\": 0, \"ticks\": \"\"}, \"colorscale\": [[0.0, \"#0d0887\"], [0.1111111111111111, \"#46039f\"], [0.2222222222222222, \"#7201a8\"], [0.3333333333333333, \"#9c179e\"], [0.4444444444444444, \"#bd3786\"], [0.5555555555555556, \"#d8576b\"], [0.6666666666666666, \"#ed7953\"], [0.7777777777777778, \"#fb9f3a\"], [0.8888888888888888, \"#fdca26\"], [1.0, \"#f0f921\"]], \"type\": \"surface\"}], \"table\": [{\"cells\": {\"fill\": {\"color\": \"#EBF0F8\"}, \"line\": {\"color\": \"white\"}}, \"header\": {\"fill\": {\"color\": \"#C8D4E3\"}, \"line\": {\"color\": \"white\"}}, \"type\": \"table\"}]}, \"layout\": {\"annotationdefaults\": {\"arrowcolor\": \"#2a3f5f\", \"arrowhead\": 0, \"arrowwidth\": 1}, \"coloraxis\": {\"colorbar\": {\"outlinewidth\": 0, \"ticks\": \"\"}}, \"colorscale\": {\"diverging\": [[0, \"#8e0152\"], [0.1, \"#c51b7d\"], [0.2, \"#de77ae\"], [0.3, \"#f1b6da\"], [0.4, \"#fde0ef\"], [0.5, \"#f7f7f7\"], [0.6, \"#e6f5d0\"], [0.7, \"#b8e186\"], [0.8, \"#7fbc41\"], [0.9, \"#4d9221\"], [1, \"#276419\"]], \"sequential\": [[0.0, \"#0d0887\"], [0.1111111111111111, \"#46039f\"], [0.2222222222222222, \"#7201a8\"], [0.3333333333333333, \"#9c179e\"], [0.4444444444444444, \"#bd3786\"], [0.5555555555555556, \"#d8576b\"], [0.6666666666666666, \"#ed7953\"], [0.7777777777777778, \"#fb9f3a\"], [0.8888888888888888, \"#fdca26\"], [1.0, \"#f0f921\"]], \"sequentialminus\": [[0.0, \"#0d0887\"], [0.1111111111111111, \"#46039f\"], [0.2222222222222222, \"#7201a8\"], [0.3333333333333333, \"#9c179e\"], [0.4444444444444444, \"#bd3786\"], [0.5555555555555556, \"#d8576b\"], [0.6666666666666666, \"#ed7953\"], [0.7777777777777778, \"#fb9f3a\"], [0.8888888888888888, \"#fdca26\"], [1.0, \"#f0f921\"]]}, \"colorway\": [\"#636efa\", \"#EF553B\", \"#00cc96\", \"#ab63fa\", \"#FFA15A\", \"#19d3f3\", \"#FF6692\", \"#B6E880\", \"#FF97FF\", \"#FECB52\"], \"font\": {\"color\": \"#2a3f5f\"}, \"geo\": {\"bgcolor\": \"white\", \"lakecolor\": \"white\", \"landcolor\": \"#E5ECF6\", \"showlakes\": true, \"showland\": true, \"subunitcolor\": \"white\"}, \"hoverlabel\": {\"align\": \"left\"}, \"hovermode\": \"closest\", \"mapbox\": {\"style\": \"light\"}, \"paper_bgcolor\": \"white\", \"plot_bgcolor\": \"#E5ECF6\", \"polar\": {\"angularaxis\": {\"gridcolor\": \"white\", \"linecolor\": \"white\", \"ticks\": \"\"}, \"bgcolor\": \"#E5ECF6\", \"radialaxis\": {\"gridcolor\": \"white\", \"linecolor\": \"white\", \"ticks\": \"\"}}, \"scene\": {\"xaxis\": {\"backgroundcolor\": \"#E5ECF6\", \"gridcolor\": \"white\", \"gridwidth\": 2, \"linecolor\": \"white\", \"showbackground\": true, \"ticks\": \"\", \"zerolinecolor\": \"white\"}, \"yaxis\": {\"backgroundcolor\": \"#E5ECF6\", \"gridcolor\": \"white\", \"gridwidth\": 2, \"linecolor\": \"white\", \"showbackground\": true, \"ticks\": \"\", \"zerolinecolor\": \"white\"}, \"zaxis\": {\"backgroundcolor\": \"#E5ECF6\", \"gridcolor\": \"white\", \"gridwidth\": 2, \"linecolor\": \"white\", \"showbackground\": true, \"ticks\": \"\", \"zerolinecolor\": \"white\"}}, \"shapedefaults\": {\"line\": {\"color\": \"#2a3f5f\"}}, \"ternary\": {\"aaxis\": {\"gridcolor\": \"white\", \"linecolor\": \"white\", \"ticks\": \"\"}, \"baxis\": {\"gridcolor\": \"white\", \"linecolor\": \"white\", \"ticks\": \"\"}, \"bgcolor\": \"#E5ECF6\", \"caxis\": {\"gridcolor\": \"white\", \"linecolor\": \"white\", \"ticks\": \"\"}}, \"title\": {\"x\": 0.05}, \"xaxis\": {\"automargin\": true, \"gridcolor\": \"white\", \"linecolor\": \"white\", \"ticks\": \"\", \"title\": {\"standoff\": 15}, \"zerolinecolor\": \"white\", \"zerolinewidth\": 2}, \"yaxis\": {\"automargin\": true, \"gridcolor\": \"white\", \"linecolor\": \"white\", \"ticks\": \"\", \"title\": {\"standoff\": 15}, \"zerolinecolor\": \"white\", \"zerolinewidth\": 2}}}, \"title\": {\"text\": \"2015 Mismanaged plastic proportion (midpoint)\"}},\n",
       "                        {\"responsive\": true}\n",
       "                    ).then(function(){\n",
       "                            \n",
       "var gd = document.getElementById('91eb699d-d612-4d99-86ac-c57efdd2e19d');\n",
       "var x = new MutationObserver(function (mutations, observer) {{\n",
       "        var display = window.getComputedStyle(gd).display;\n",
       "        if (!display || display === 'none') {{\n",
       "            console.log([gd, 'removed!']);\n",
       "            Plotly.purge(gd);\n",
       "            observer.disconnect();\n",
       "        }}\n",
       "}});\n",
       "\n",
       "// Listen for the removal of the full notebook cells\n",
       "var notebookContainer = gd.closest('#notebook-container');\n",
       "if (notebookContainer) {{\n",
       "    x.observe(notebookContainer, {childList: true});\n",
       "}}\n",
       "\n",
       "// Listen for the clearing of the current output cell\n",
       "var outputEl = gd.closest('.output');\n",
       "if (outputEl) {{\n",
       "    x.observe(outputEl, {childList: true});\n",
       "}}\n",
       "\n",
       "                        })\n",
       "                };\n",
       "                });\n",
       "            </script>\n",
       "        </div>"
      ]
     },
     "metadata": {},
     "output_type": "display_data"
    }
   ],
   "source": [
    "import plotly.graph_objects as go\n",
    "\n",
    "\n",
    "fig = go.Figure(data=go.Choropleth(\n",
    "    locations = df['ISO code'],\n",
    "    z = df['percent']*100,\n",
    "    text = df['Country'],\n",
    "    colorscale = 'Blues',\n",
    "    autocolorscale=False,\n",
    "    reversescale=False,\n",
    "    marker_line_color='darkgray',\n",
    "    marker_line_width=0.5,\n",
    "    colorbar_tickprefix = '',\n",
    "    colorbar_title = '% mismanaged plastic',\n",
    "))\n",
    "\n",
    "fig.update_layout(\n",
    "    title_text='2015 Mismanaged plastic proportion (midpoint)',\n",
    "    geo=dict(\n",
    "        showframe=False,\n",
    "        showcoastlines=False,\n",
    "        projection_type='equirectangular'\n",
    "    )\n",
    ")\n",
    "\n",
    "fig.show()"
   ]
  },
  {
   "cell_type": "markdown",
   "metadata": {},
   "source": [
    "## 2.2. Scatter plot"
   ]
  },
  {
   "cell_type": "code",
   "execution_count": 14,
   "metadata": {},
   "outputs": [
    {
     "data": {
      "application/vnd.plotly.v1+json": {
       "config": {
        "plotlyServerURL": "https://plot.ly"
       },
       "data": [
        {
         "mode": "markers",
         "type": "scatter",
         "x": [
          0.978728806016,
          1,
          0.8,
          0.9,
          0.287136420896,
          0.333,
          0.02,
          0.02,
          0.02,
          0.22,
          0.26936974178399997,
          0.02,
          1,
          0.18,
          0.49228846835999995,
          0.02,
          1,
          1,
          0.52,
          0.289,
          0.62,
          0.4,
          0.4202,
          0.02,
          0.171,
          0.983943801984,
          1,
          0.923049163816,
          0.95,
          0.02,
          1,
          0.959235179136,
          0.178,
          0.7,
          0.02,
          0.79,
          0.178,
          0.9921322709999999,
          0.827541849368,
          0.326,
          0.9278949917120001,
          0.272,
          0.128,
          0.02,
          1,
          0.02,
          0.9345206398320001,
          0.680496818872,
          0.661,
          0.676,
          0.835,
          0.211,
          0.02,
          0.9986276631759999,
          0.05,
          0.9800182803840001,
          0.7472014794399999,
          0.02,
          0.02,
          0.43733163552,
          0.9879056049200001,
          0.02,
          0.02,
          0.9028723897440001,
          0.02,
          0.598536059992,
          0.794,
          1,
          0.9909057489759999,
          0.7920809286,
          1,
          0.887,
          0.9,
          0.02,
          0.85,
          0.25,
          0.472282582824,
          0.522113761312,
          0.02,
          0.02,
          0.02,
          0.864,
          0.02,
          0.4,
          0.236450048432,
          0.9348052244959999,
          0.983003242,
          0.02,
          0.931458357336,
          1,
          0.02,
          0.3,
          0.942724604328,
          1,
          0.594354722104,
          0.104585172744,
          0.02,
          0.9928967146800001,
          1,
          0.85,
          0.9691052677280001,
          0.13,
          0.9385841807680002,
          0.547,
          0.02,
          0.304,
          0.9450670200400008,
          0.659309457768,
          0.62,
          1,
          1,
          0.6719809100159999,
          0.63,
          0.02,
          0.02,
          0.837,
          1,
          1,
          0.02,
          0.02,
          0.95,
          0.5622879062319986,
          0.441,
          0.9291181955119999,
          0.636,
          0.565,
          0.85,
          0.172419406848,
          0.02,
          0.02,
          0.02,
          0.02,
          1,
          0.34131271980000005,
          0.22268089012,
          0.9803523253679999,
          0.245762143224,
          0.3,
          0.6873003676239999,
          0.87194416296,
          0.02,
          0.935318109232,
          0.02,
          0.9592960341119999,
          0.4,
          0.15884614896800006,
          0.9882945571199999,
          0.02,
          0.07,
          0.14,
          0.977526701112,
          0.627436225832,
          0.9876973707119999,
          0.02,
          0.95,
          0.76,
          0.900626578176,
          1,
          0.73421720632,
          0.02,
          0.02,
          0.02,
          0.946645461632,
          0.585148935696,
          0.6,
          0.9089475883279999,
          0.9916072716159999,
          0.8730811242400002,
          1,
          1,
          0.69,
          0.496964722488,
          0.9283443919359999,
          0.9752950389520001,
          0.7823825737519999,
          0.02,
          0.02,
          0.943039992128,
          0.02,
          0.863,
          0.8380001088160001,
          0.9576279065600001,
          0.87,
          0.838974070168,
          0.68,
          0.9179560343200001,
          0.9788527698559999
         ],
         "y": [
          29928987,
          3563112,
          32531853,
          11190786,
          68722,
          39537943,
          2982904,
          20090437,
          8184691,
          7911974,
          301790,
          688345,
          144319628,
          279254,
          10300483,
          10364388,
          279457,
          7460025,
          2232291,
          8857870,
          4025476,
          1640115,
          186112794,
          372361,
          7450349,
          13925313,
          6370609,
          13607069,
          16380005,
          32805041,
          3799897,
          9826419,
          15980912,
          1306313812,
          6898686,
          449198,
          42954279,
          671247,
          3039126,
          4016173,
          17298040,
          4495904,
          780133,
          10241138,
          60085804,
          5432335,
          476703,
          69029,
          8950034,
          13363593,
          77505756,
          6704932,
          535881,
          4561599,
          1332893,
          73053286,
          893354,
          5223442,
          60656178,
          1389201,
          1593256,
          4677401,
          82431390,
          21029853,
          10668354,
          89502,
          14655189,
          9467866,
          1416027,
          765283,
          8121622,
          6975204,
          10006835,
          296737,
          1080264388,
          241973879,
          68017860,
          26074906,
          4015676,
          6276883,
          58103033,
          2731832,
          127417244,
          5759732,
          15185844,
          33829590,
          103092,
          2335648,
          5146281,
          6217141,
          2290237,
          3826018,
          1867035,
          3482211,
          5765563,
          3596617,
          468571,
          18040341,
          12158924,
          23953136,
          12291529,
          398534,
          59071,
          3086859,
          1230602,
          106202903,
          108105,
          2791272,
          32725847,
          19406703,
          null,
          2030692,
          27676547,
          16407491,
          4035461,
          5465100,
          11665937,
          128771988,
          4593041,
          3001583,
          162419946,
          20303,
          3039150,
          5545268,
          6347884,
          27925628,
          87857473,
          38635144,
          10566212,
          3916632,
          863051,
          48422644,
          4455421,
          22329977,
          143420309,
          8440820,
          38958,
          166312,
          117534,
          177287,
          28880,
          187410,
          26417599,
          11126832,
          10829175,
          81188,
          6017643,
          4425720,
          5431363,
          2011070,
          538032,
          44344136,
          null,
          40341462,
          20064776,
          null,
          null,
          438144,
          1173900,
          9001774,
          7489370,
          22894384,
          7163506,
          2045262,
          65444371,
          null,
          5681519,
          112422,
          1088644,
          10074951,
          69660559,
          4952081,
          11636,
          27269482,
          47425336,
          2563212,
          60441457,
          36766356,
          295734134,
          3415920,
          26851195,
          205754,
          25375281,
          83535576,
          20727063,
          11261795,
          12746990
         ]
        }
       ],
       "layout": {
        "template": {
         "data": {
          "bar": [
           {
            "error_x": {
             "color": "#2a3f5f"
            },
            "error_y": {
             "color": "#2a3f5f"
            },
            "marker": {
             "line": {
              "color": "#E5ECF6",
              "width": 0.5
             }
            },
            "type": "bar"
           }
          ],
          "barpolar": [
           {
            "marker": {
             "line": {
              "color": "#E5ECF6",
              "width": 0.5
             }
            },
            "type": "barpolar"
           }
          ],
          "carpet": [
           {
            "aaxis": {
             "endlinecolor": "#2a3f5f",
             "gridcolor": "white",
             "linecolor": "white",
             "minorgridcolor": "white",
             "startlinecolor": "#2a3f5f"
            },
            "baxis": {
             "endlinecolor": "#2a3f5f",
             "gridcolor": "white",
             "linecolor": "white",
             "minorgridcolor": "white",
             "startlinecolor": "#2a3f5f"
            },
            "type": "carpet"
           }
          ],
          "choropleth": [
           {
            "colorbar": {
             "outlinewidth": 0,
             "ticks": ""
            },
            "type": "choropleth"
           }
          ],
          "contour": [
           {
            "colorbar": {
             "outlinewidth": 0,
             "ticks": ""
            },
            "colorscale": [
             [
              0,
              "#0d0887"
             ],
             [
              0.1111111111111111,
              "#46039f"
             ],
             [
              0.2222222222222222,
              "#7201a8"
             ],
             [
              0.3333333333333333,
              "#9c179e"
             ],
             [
              0.4444444444444444,
              "#bd3786"
             ],
             [
              0.5555555555555556,
              "#d8576b"
             ],
             [
              0.6666666666666666,
              "#ed7953"
             ],
             [
              0.7777777777777778,
              "#fb9f3a"
             ],
             [
              0.8888888888888888,
              "#fdca26"
             ],
             [
              1,
              "#f0f921"
             ]
            ],
            "type": "contour"
           }
          ],
          "contourcarpet": [
           {
            "colorbar": {
             "outlinewidth": 0,
             "ticks": ""
            },
            "type": "contourcarpet"
           }
          ],
          "heatmap": [
           {
            "colorbar": {
             "outlinewidth": 0,
             "ticks": ""
            },
            "colorscale": [
             [
              0,
              "#0d0887"
             ],
             [
              0.1111111111111111,
              "#46039f"
             ],
             [
              0.2222222222222222,
              "#7201a8"
             ],
             [
              0.3333333333333333,
              "#9c179e"
             ],
             [
              0.4444444444444444,
              "#bd3786"
             ],
             [
              0.5555555555555556,
              "#d8576b"
             ],
             [
              0.6666666666666666,
              "#ed7953"
             ],
             [
              0.7777777777777778,
              "#fb9f3a"
             ],
             [
              0.8888888888888888,
              "#fdca26"
             ],
             [
              1,
              "#f0f921"
             ]
            ],
            "type": "heatmap"
           }
          ],
          "heatmapgl": [
           {
            "colorbar": {
             "outlinewidth": 0,
             "ticks": ""
            },
            "colorscale": [
             [
              0,
              "#0d0887"
             ],
             [
              0.1111111111111111,
              "#46039f"
             ],
             [
              0.2222222222222222,
              "#7201a8"
             ],
             [
              0.3333333333333333,
              "#9c179e"
             ],
             [
              0.4444444444444444,
              "#bd3786"
             ],
             [
              0.5555555555555556,
              "#d8576b"
             ],
             [
              0.6666666666666666,
              "#ed7953"
             ],
             [
              0.7777777777777778,
              "#fb9f3a"
             ],
             [
              0.8888888888888888,
              "#fdca26"
             ],
             [
              1,
              "#f0f921"
             ]
            ],
            "type": "heatmapgl"
           }
          ],
          "histogram": [
           {
            "marker": {
             "colorbar": {
              "outlinewidth": 0,
              "ticks": ""
             }
            },
            "type": "histogram"
           }
          ],
          "histogram2d": [
           {
            "colorbar": {
             "outlinewidth": 0,
             "ticks": ""
            },
            "colorscale": [
             [
              0,
              "#0d0887"
             ],
             [
              0.1111111111111111,
              "#46039f"
             ],
             [
              0.2222222222222222,
              "#7201a8"
             ],
             [
              0.3333333333333333,
              "#9c179e"
             ],
             [
              0.4444444444444444,
              "#bd3786"
             ],
             [
              0.5555555555555556,
              "#d8576b"
             ],
             [
              0.6666666666666666,
              "#ed7953"
             ],
             [
              0.7777777777777778,
              "#fb9f3a"
             ],
             [
              0.8888888888888888,
              "#fdca26"
             ],
             [
              1,
              "#f0f921"
             ]
            ],
            "type": "histogram2d"
           }
          ],
          "histogram2dcontour": [
           {
            "colorbar": {
             "outlinewidth": 0,
             "ticks": ""
            },
            "colorscale": [
             [
              0,
              "#0d0887"
             ],
             [
              0.1111111111111111,
              "#46039f"
             ],
             [
              0.2222222222222222,
              "#7201a8"
             ],
             [
              0.3333333333333333,
              "#9c179e"
             ],
             [
              0.4444444444444444,
              "#bd3786"
             ],
             [
              0.5555555555555556,
              "#d8576b"
             ],
             [
              0.6666666666666666,
              "#ed7953"
             ],
             [
              0.7777777777777778,
              "#fb9f3a"
             ],
             [
              0.8888888888888888,
              "#fdca26"
             ],
             [
              1,
              "#f0f921"
             ]
            ],
            "type": "histogram2dcontour"
           }
          ],
          "mesh3d": [
           {
            "colorbar": {
             "outlinewidth": 0,
             "ticks": ""
            },
            "type": "mesh3d"
           }
          ],
          "parcoords": [
           {
            "line": {
             "colorbar": {
              "outlinewidth": 0,
              "ticks": ""
             }
            },
            "type": "parcoords"
           }
          ],
          "pie": [
           {
            "automargin": true,
            "type": "pie"
           }
          ],
          "scatter": [
           {
            "marker": {
             "colorbar": {
              "outlinewidth": 0,
              "ticks": ""
             }
            },
            "type": "scatter"
           }
          ],
          "scatter3d": [
           {
            "line": {
             "colorbar": {
              "outlinewidth": 0,
              "ticks": ""
             }
            },
            "marker": {
             "colorbar": {
              "outlinewidth": 0,
              "ticks": ""
             }
            },
            "type": "scatter3d"
           }
          ],
          "scattercarpet": [
           {
            "marker": {
             "colorbar": {
              "outlinewidth": 0,
              "ticks": ""
             }
            },
            "type": "scattercarpet"
           }
          ],
          "scattergeo": [
           {
            "marker": {
             "colorbar": {
              "outlinewidth": 0,
              "ticks": ""
             }
            },
            "type": "scattergeo"
           }
          ],
          "scattergl": [
           {
            "marker": {
             "colorbar": {
              "outlinewidth": 0,
              "ticks": ""
             }
            },
            "type": "scattergl"
           }
          ],
          "scattermapbox": [
           {
            "marker": {
             "colorbar": {
              "outlinewidth": 0,
              "ticks": ""
             }
            },
            "type": "scattermapbox"
           }
          ],
          "scatterpolar": [
           {
            "marker": {
             "colorbar": {
              "outlinewidth": 0,
              "ticks": ""
             }
            },
            "type": "scatterpolar"
           }
          ],
          "scatterpolargl": [
           {
            "marker": {
             "colorbar": {
              "outlinewidth": 0,
              "ticks": ""
             }
            },
            "type": "scatterpolargl"
           }
          ],
          "scatterternary": [
           {
            "marker": {
             "colorbar": {
              "outlinewidth": 0,
              "ticks": ""
             }
            },
            "type": "scatterternary"
           }
          ],
          "surface": [
           {
            "colorbar": {
             "outlinewidth": 0,
             "ticks": ""
            },
            "colorscale": [
             [
              0,
              "#0d0887"
             ],
             [
              0.1111111111111111,
              "#46039f"
             ],
             [
              0.2222222222222222,
              "#7201a8"
             ],
             [
              0.3333333333333333,
              "#9c179e"
             ],
             [
              0.4444444444444444,
              "#bd3786"
             ],
             [
              0.5555555555555556,
              "#d8576b"
             ],
             [
              0.6666666666666666,
              "#ed7953"
             ],
             [
              0.7777777777777778,
              "#fb9f3a"
             ],
             [
              0.8888888888888888,
              "#fdca26"
             ],
             [
              1,
              "#f0f921"
             ]
            ],
            "type": "surface"
           }
          ],
          "table": [
           {
            "cells": {
             "fill": {
              "color": "#EBF0F8"
             },
             "line": {
              "color": "white"
             }
            },
            "header": {
             "fill": {
              "color": "#C8D4E3"
             },
             "line": {
              "color": "white"
             }
            },
            "type": "table"
           }
          ]
         },
         "layout": {
          "annotationdefaults": {
           "arrowcolor": "#2a3f5f",
           "arrowhead": 0,
           "arrowwidth": 1
          },
          "coloraxis": {
           "colorbar": {
            "outlinewidth": 0,
            "ticks": ""
           }
          },
          "colorscale": {
           "diverging": [
            [
             0,
             "#8e0152"
            ],
            [
             0.1,
             "#c51b7d"
            ],
            [
             0.2,
             "#de77ae"
            ],
            [
             0.3,
             "#f1b6da"
            ],
            [
             0.4,
             "#fde0ef"
            ],
            [
             0.5,
             "#f7f7f7"
            ],
            [
             0.6,
             "#e6f5d0"
            ],
            [
             0.7,
             "#b8e186"
            ],
            [
             0.8,
             "#7fbc41"
            ],
            [
             0.9,
             "#4d9221"
            ],
            [
             1,
             "#276419"
            ]
           ],
           "sequential": [
            [
             0,
             "#0d0887"
            ],
            [
             0.1111111111111111,
             "#46039f"
            ],
            [
             0.2222222222222222,
             "#7201a8"
            ],
            [
             0.3333333333333333,
             "#9c179e"
            ],
            [
             0.4444444444444444,
             "#bd3786"
            ],
            [
             0.5555555555555556,
             "#d8576b"
            ],
            [
             0.6666666666666666,
             "#ed7953"
            ],
            [
             0.7777777777777778,
             "#fb9f3a"
            ],
            [
             0.8888888888888888,
             "#fdca26"
            ],
            [
             1,
             "#f0f921"
            ]
           ],
           "sequentialminus": [
            [
             0,
             "#0d0887"
            ],
            [
             0.1111111111111111,
             "#46039f"
            ],
            [
             0.2222222222222222,
             "#7201a8"
            ],
            [
             0.3333333333333333,
             "#9c179e"
            ],
            [
             0.4444444444444444,
             "#bd3786"
            ],
            [
             0.5555555555555556,
             "#d8576b"
            ],
            [
             0.6666666666666666,
             "#ed7953"
            ],
            [
             0.7777777777777778,
             "#fb9f3a"
            ],
            [
             0.8888888888888888,
             "#fdca26"
            ],
            [
             1,
             "#f0f921"
            ]
           ]
          },
          "colorway": [
           "#636efa",
           "#EF553B",
           "#00cc96",
           "#ab63fa",
           "#FFA15A",
           "#19d3f3",
           "#FF6692",
           "#B6E880",
           "#FF97FF",
           "#FECB52"
          ],
          "font": {
           "color": "#2a3f5f"
          },
          "geo": {
           "bgcolor": "white",
           "lakecolor": "white",
           "landcolor": "#E5ECF6",
           "showlakes": true,
           "showland": true,
           "subunitcolor": "white"
          },
          "hoverlabel": {
           "align": "left"
          },
          "hovermode": "closest",
          "mapbox": {
           "style": "light"
          },
          "paper_bgcolor": "white",
          "plot_bgcolor": "#E5ECF6",
          "polar": {
           "angularaxis": {
            "gridcolor": "white",
            "linecolor": "white",
            "ticks": ""
           },
           "bgcolor": "#E5ECF6",
           "radialaxis": {
            "gridcolor": "white",
            "linecolor": "white",
            "ticks": ""
           }
          },
          "scene": {
           "xaxis": {
            "backgroundcolor": "#E5ECF6",
            "gridcolor": "white",
            "gridwidth": 2,
            "linecolor": "white",
            "showbackground": true,
            "ticks": "",
            "zerolinecolor": "white"
           },
           "yaxis": {
            "backgroundcolor": "#E5ECF6",
            "gridcolor": "white",
            "gridwidth": 2,
            "linecolor": "white",
            "showbackground": true,
            "ticks": "",
            "zerolinecolor": "white"
           },
           "zaxis": {
            "backgroundcolor": "#E5ECF6",
            "gridcolor": "white",
            "gridwidth": 2,
            "linecolor": "white",
            "showbackground": true,
            "ticks": "",
            "zerolinecolor": "white"
           }
          },
          "shapedefaults": {
           "line": {
            "color": "#2a3f5f"
           }
          },
          "ternary": {
           "aaxis": {
            "gridcolor": "white",
            "linecolor": "white",
            "ticks": ""
           },
           "baxis": {
            "gridcolor": "white",
            "linecolor": "white",
            "ticks": ""
           },
           "bgcolor": "#E5ECF6",
           "caxis": {
            "gridcolor": "white",
            "linecolor": "white",
            "ticks": ""
           }
          },
          "title": {
           "x": 0.05
          },
          "xaxis": {
           "automargin": true,
           "gridcolor": "white",
           "linecolor": "white",
           "ticks": "",
           "title": {
            "standoff": 15
           },
           "zerolinecolor": "white",
           "zerolinewidth": 2
          },
          "yaxis": {
           "automargin": true,
           "gridcolor": "white",
           "linecolor": "white",
           "ticks": "",
           "title": {
            "standoff": 15
           },
           "zerolinecolor": "white",
           "zerolinewidth": 2
          }
         }
        }
       }
      },
      "text/html": [
       "<div>\n",
       "        \n",
       "        \n",
       "            <div id=\"56d3aeaf-f387-4e1e-b93d-07044cf386cd\" class=\"plotly-graph-div\" style=\"height:525px; width:100%;\"></div>\n",
       "            <script type=\"text/javascript\">\n",
       "                require([\"plotly\"], function(Plotly) {\n",
       "                    window.PLOTLYENV=window.PLOTLYENV || {};\n",
       "                    \n",
       "                if (document.getElementById(\"56d3aeaf-f387-4e1e-b93d-07044cf386cd\")) {\n",
       "                    Plotly.newPlot(\n",
       "                        '56d3aeaf-f387-4e1e-b93d-07044cf386cd',\n",
       "                        [{\"mode\": \"markers\", \"type\": \"scatter\", \"x\": [0.978728806016, 1.0, 0.8, 0.9, 0.287136420896, 0.333, 0.02, 0.02, 0.02, 0.22, 0.26936974178399997, 0.02, 1.0, 0.18, 0.49228846835999995, 0.02, 1.0, 1.0, 0.52, 0.289, 0.62, 0.4, 0.4202, 0.02, 0.171, 0.983943801984, 1.0, 0.923049163816, 0.95, 0.02, 1.0, 0.959235179136, 0.178, 0.7, 0.02, 0.79, 0.178, 0.9921322709999999, 0.827541849368, 0.326, 0.9278949917120001, 0.272, 0.128, 0.02, 1.0, 0.02, 0.9345206398320001, 0.680496818872, 0.661, 0.676, 0.835, 0.211, 0.02, 0.9986276631759999, 0.05, 0.9800182803840001, 0.7472014794399999, 0.02, 0.02, 0.43733163552, 0.9879056049200001, 0.02, 0.02, 0.9028723897440001, 0.02, 0.598536059992, 0.794, 1.0, 0.9909057489759999, 0.7920809286, 1.0, 0.887, 0.9, 0.02, 0.85, 0.25, 0.472282582824, 0.522113761312, 0.02, 0.02, 0.02, 0.864, 0.02, 0.4, 0.236450048432, 0.9348052244959999, 0.983003242, 0.02, 0.931458357336, 1.0, 0.02, 0.3, 0.942724604328, 1.0, 0.594354722104, 0.104585172744, 0.02, 0.9928967146800001, 1.0, 0.85, 0.9691052677280001, 0.13, 0.9385841807680002, 0.547, 0.02, 0.304, 0.9450670200400008, 0.659309457768, 0.62, 1.0, 1.0, 0.6719809100159999, 0.63, 0.02, 0.02, 0.837, 1.0, 1.0, 0.02, 0.02, 0.95, 0.5622879062319986, 0.441, 0.9291181955119999, 0.636, 0.565, 0.85, 0.172419406848, 0.02, 0.02, 0.02, 0.02, 1.0, 0.34131271980000005, 0.22268089012, 0.9803523253679999, 0.245762143224, 0.3, 0.6873003676239999, 0.87194416296, 0.02, 0.935318109232, 0.02, 0.9592960341119999, 0.4, 0.15884614896800006, 0.9882945571199999, 0.02, 0.07, 0.14, 0.977526701112, 0.627436225832, 0.9876973707119999, 0.02, 0.95, 0.76, 0.900626578176, 1.0, 0.73421720632, 0.02, 0.02, 0.02, 0.946645461632, 0.585148935696, 0.6, 0.9089475883279999, 0.9916072716159999, 0.8730811242400002, 1.0, 1.0, 0.69, 0.496964722488, 0.9283443919359999, 0.9752950389520001, 0.7823825737519999, 0.02, 0.02, 0.943039992128, 0.02, 0.863, 0.8380001088160001, 0.9576279065600001, 0.87, 0.838974070168, 0.68, 0.9179560343200001, 0.9788527698559999], \"y\": [29928987.0, 3563112.0, 32531853.0, 11190786.0, 68722.0, 39537943.0, 2982904.0, 20090437.0, 8184691.0, 7911974.0, 301790.0, 688345.0, 144319628.0, 279254.0, 10300483.0, 10364388.0, 279457.0, 7460025.0, 2232291.0, 8857870.0, 4025476.0, 1640115.0, 186112794.0, 372361.0, 7450349.0, 13925313.0, 6370609.0, 13607069.0, 16380005.0, 32805041.0, 3799897.0, 9826419.0, 15980912.0, 1306313812.0, 6898686.0, 449198.0, 42954279.0, 671247.0, 3039126.0, 4016173.0, 17298040.0, 4495904.0, 780133.0, 10241138.0, 60085804.0, 5432335.0, 476703.0, 69029.0, 8950034.0, 13363593.0, 77505756.0, 6704932.0, 535881.0, 4561599.0, 1332893.0, 73053286.0, 893354.0, 5223442.0, 60656178.0, 1389201.0, 1593256.0, 4677401.0, 82431390.0, 21029853.0, 10668354.0, 89502.0, 14655189.0, 9467866.0, 1416027.0, 765283.0, 8121622.0, 6975204.0, 10006835.0, 296737.0, 1080264388.0, 241973879.0, 68017860.0, 26074906.0, 4015676.0, 6276883.0, 58103033.0, 2731832.0, 127417244.0, 5759732.0, 15185844.0, 33829590.0, 103092.0, 2335648.0, 5146281.0, 6217141.0, 2290237.0, 3826018.0, 1867035.0, 3482211.0, 5765563.0, 3596617.0, 468571.0, 18040341.0, 12158924.0, 23953136.0, 12291529.0, 398534.0, 59071.0, 3086859.0, 1230602.0, 106202903.0, 108105.0, 2791272.0, 32725847.0, 19406703.0, null, 2030692.0, 27676547.0, 16407491.0, 4035461.0, 5465100.0, 11665937.0, 128771988.0, 4593041.0, 3001583.0, 162419946.0, 20303.0, 3039150.0, 5545268.0, 6347884.0, 27925628.0, 87857473.0, 38635144.0, 10566212.0, 3916632.0, 863051.0, 48422644.0, 4455421.0, 22329977.0, 143420309.0, 8440820.0, 38958.0, 166312.0, 117534.0, 177287.0, 28880.0, 187410.0, 26417599.0, 11126832.0, 10829175.0, 81188.0, 6017643.0, 4425720.0, 5431363.0, 2011070.0, 538032.0, 44344136.0, null, 40341462.0, 20064776.0, null, null, 438144.0, 1173900.0, 9001774.0, 7489370.0, 22894384.0, 7163506.0, 2045262.0, 65444371.0, null, 5681519.0, 112422.0, 1088644.0, 10074951.0, 69660559.0, 4952081.0, 11636.0, 27269482.0, 47425336.0, 2563212.0, 60441457.0, 36766356.0, 295734134.0, 3415920.0, 26851195.0, 205754.0, 25375281.0, 83535576.0, 20727063.0, 11261795.0, 12746990.0]}],\n",
       "                        {\"template\": {\"data\": {\"bar\": [{\"error_x\": {\"color\": \"#2a3f5f\"}, \"error_y\": {\"color\": \"#2a3f5f\"}, \"marker\": {\"line\": {\"color\": \"#E5ECF6\", \"width\": 0.5}}, \"type\": \"bar\"}], \"barpolar\": [{\"marker\": {\"line\": {\"color\": \"#E5ECF6\", \"width\": 0.5}}, \"type\": \"barpolar\"}], \"carpet\": [{\"aaxis\": {\"endlinecolor\": \"#2a3f5f\", \"gridcolor\": \"white\", \"linecolor\": \"white\", \"minorgridcolor\": \"white\", \"startlinecolor\": \"#2a3f5f\"}, \"baxis\": {\"endlinecolor\": \"#2a3f5f\", \"gridcolor\": \"white\", \"linecolor\": \"white\", \"minorgridcolor\": \"white\", \"startlinecolor\": \"#2a3f5f\"}, \"type\": \"carpet\"}], \"choropleth\": [{\"colorbar\": {\"outlinewidth\": 0, \"ticks\": \"\"}, \"type\": \"choropleth\"}], \"contour\": [{\"colorbar\": {\"outlinewidth\": 0, \"ticks\": \"\"}, \"colorscale\": [[0.0, \"#0d0887\"], [0.1111111111111111, \"#46039f\"], [0.2222222222222222, \"#7201a8\"], [0.3333333333333333, \"#9c179e\"], [0.4444444444444444, \"#bd3786\"], [0.5555555555555556, \"#d8576b\"], [0.6666666666666666, \"#ed7953\"], [0.7777777777777778, \"#fb9f3a\"], [0.8888888888888888, \"#fdca26\"], [1.0, \"#f0f921\"]], \"type\": \"contour\"}], \"contourcarpet\": [{\"colorbar\": {\"outlinewidth\": 0, \"ticks\": \"\"}, \"type\": \"contourcarpet\"}], \"heatmap\": [{\"colorbar\": {\"outlinewidth\": 0, \"ticks\": \"\"}, \"colorscale\": [[0.0, \"#0d0887\"], [0.1111111111111111, \"#46039f\"], [0.2222222222222222, \"#7201a8\"], [0.3333333333333333, \"#9c179e\"], [0.4444444444444444, \"#bd3786\"], [0.5555555555555556, \"#d8576b\"], [0.6666666666666666, \"#ed7953\"], [0.7777777777777778, \"#fb9f3a\"], [0.8888888888888888, \"#fdca26\"], [1.0, \"#f0f921\"]], \"type\": \"heatmap\"}], \"heatmapgl\": [{\"colorbar\": {\"outlinewidth\": 0, \"ticks\": \"\"}, \"colorscale\": [[0.0, \"#0d0887\"], [0.1111111111111111, \"#46039f\"], [0.2222222222222222, \"#7201a8\"], [0.3333333333333333, \"#9c179e\"], [0.4444444444444444, \"#bd3786\"], [0.5555555555555556, \"#d8576b\"], [0.6666666666666666, \"#ed7953\"], [0.7777777777777778, \"#fb9f3a\"], [0.8888888888888888, \"#fdca26\"], [1.0, \"#f0f921\"]], \"type\": \"heatmapgl\"}], \"histogram\": [{\"marker\": {\"colorbar\": {\"outlinewidth\": 0, \"ticks\": \"\"}}, \"type\": \"histogram\"}], \"histogram2d\": [{\"colorbar\": {\"outlinewidth\": 0, \"ticks\": \"\"}, \"colorscale\": [[0.0, \"#0d0887\"], [0.1111111111111111, \"#46039f\"], [0.2222222222222222, \"#7201a8\"], [0.3333333333333333, \"#9c179e\"], [0.4444444444444444, \"#bd3786\"], [0.5555555555555556, \"#d8576b\"], [0.6666666666666666, \"#ed7953\"], [0.7777777777777778, \"#fb9f3a\"], [0.8888888888888888, \"#fdca26\"], [1.0, \"#f0f921\"]], \"type\": \"histogram2d\"}], \"histogram2dcontour\": [{\"colorbar\": {\"outlinewidth\": 0, \"ticks\": \"\"}, \"colorscale\": [[0.0, \"#0d0887\"], [0.1111111111111111, \"#46039f\"], [0.2222222222222222, \"#7201a8\"], [0.3333333333333333, \"#9c179e\"], [0.4444444444444444, \"#bd3786\"], [0.5555555555555556, \"#d8576b\"], [0.6666666666666666, \"#ed7953\"], [0.7777777777777778, \"#fb9f3a\"], [0.8888888888888888, \"#fdca26\"], [1.0, \"#f0f921\"]], \"type\": \"histogram2dcontour\"}], \"mesh3d\": [{\"colorbar\": {\"outlinewidth\": 0, \"ticks\": \"\"}, \"type\": \"mesh3d\"}], \"parcoords\": [{\"line\": {\"colorbar\": {\"outlinewidth\": 0, \"ticks\": \"\"}}, \"type\": \"parcoords\"}], \"pie\": [{\"automargin\": true, \"type\": \"pie\"}], \"scatter\": [{\"marker\": {\"colorbar\": {\"outlinewidth\": 0, \"ticks\": \"\"}}, \"type\": \"scatter\"}], \"scatter3d\": [{\"line\": {\"colorbar\": {\"outlinewidth\": 0, \"ticks\": \"\"}}, \"marker\": {\"colorbar\": {\"outlinewidth\": 0, \"ticks\": \"\"}}, \"type\": \"scatter3d\"}], \"scattercarpet\": [{\"marker\": {\"colorbar\": {\"outlinewidth\": 0, \"ticks\": \"\"}}, \"type\": \"scattercarpet\"}], \"scattergeo\": [{\"marker\": {\"colorbar\": {\"outlinewidth\": 0, \"ticks\": \"\"}}, \"type\": \"scattergeo\"}], \"scattergl\": [{\"marker\": {\"colorbar\": {\"outlinewidth\": 0, \"ticks\": \"\"}}, \"type\": \"scattergl\"}], \"scattermapbox\": [{\"marker\": {\"colorbar\": {\"outlinewidth\": 0, \"ticks\": \"\"}}, \"type\": \"scattermapbox\"}], \"scatterpolar\": [{\"marker\": {\"colorbar\": {\"outlinewidth\": 0, \"ticks\": \"\"}}, \"type\": \"scatterpolar\"}], \"scatterpolargl\": [{\"marker\": {\"colorbar\": {\"outlinewidth\": 0, \"ticks\": \"\"}}, \"type\": \"scatterpolargl\"}], \"scatterternary\": [{\"marker\": {\"colorbar\": {\"outlinewidth\": 0, \"ticks\": \"\"}}, \"type\": \"scatterternary\"}], \"surface\": [{\"colorbar\": {\"outlinewidth\": 0, \"ticks\": \"\"}, \"colorscale\": [[0.0, \"#0d0887\"], [0.1111111111111111, \"#46039f\"], [0.2222222222222222, \"#7201a8\"], [0.3333333333333333, \"#9c179e\"], [0.4444444444444444, \"#bd3786\"], [0.5555555555555556, \"#d8576b\"], [0.6666666666666666, \"#ed7953\"], [0.7777777777777778, \"#fb9f3a\"], [0.8888888888888888, \"#fdca26\"], [1.0, \"#f0f921\"]], \"type\": \"surface\"}], \"table\": [{\"cells\": {\"fill\": {\"color\": \"#EBF0F8\"}, \"line\": {\"color\": \"white\"}}, \"header\": {\"fill\": {\"color\": \"#C8D4E3\"}, \"line\": {\"color\": \"white\"}}, \"type\": \"table\"}]}, \"layout\": {\"annotationdefaults\": {\"arrowcolor\": \"#2a3f5f\", \"arrowhead\": 0, \"arrowwidth\": 1}, \"coloraxis\": {\"colorbar\": {\"outlinewidth\": 0, \"ticks\": \"\"}}, \"colorscale\": {\"diverging\": [[0, \"#8e0152\"], [0.1, \"#c51b7d\"], [0.2, \"#de77ae\"], [0.3, \"#f1b6da\"], [0.4, \"#fde0ef\"], [0.5, \"#f7f7f7\"], [0.6, \"#e6f5d0\"], [0.7, \"#b8e186\"], [0.8, \"#7fbc41\"], [0.9, \"#4d9221\"], [1, \"#276419\"]], \"sequential\": [[0.0, \"#0d0887\"], [0.1111111111111111, \"#46039f\"], [0.2222222222222222, \"#7201a8\"], [0.3333333333333333, \"#9c179e\"], [0.4444444444444444, \"#bd3786\"], [0.5555555555555556, \"#d8576b\"], [0.6666666666666666, \"#ed7953\"], [0.7777777777777778, \"#fb9f3a\"], [0.8888888888888888, \"#fdca26\"], [1.0, \"#f0f921\"]], \"sequentialminus\": [[0.0, \"#0d0887\"], [0.1111111111111111, \"#46039f\"], [0.2222222222222222, \"#7201a8\"], [0.3333333333333333, \"#9c179e\"], [0.4444444444444444, \"#bd3786\"], [0.5555555555555556, \"#d8576b\"], [0.6666666666666666, \"#ed7953\"], [0.7777777777777778, \"#fb9f3a\"], [0.8888888888888888, \"#fdca26\"], [1.0, \"#f0f921\"]]}, \"colorway\": [\"#636efa\", \"#EF553B\", \"#00cc96\", \"#ab63fa\", \"#FFA15A\", \"#19d3f3\", \"#FF6692\", \"#B6E880\", \"#FF97FF\", \"#FECB52\"], \"font\": {\"color\": \"#2a3f5f\"}, \"geo\": {\"bgcolor\": \"white\", \"lakecolor\": \"white\", \"landcolor\": \"#E5ECF6\", \"showlakes\": true, \"showland\": true, \"subunitcolor\": \"white\"}, \"hoverlabel\": {\"align\": \"left\"}, \"hovermode\": \"closest\", \"mapbox\": {\"style\": \"light\"}, \"paper_bgcolor\": \"white\", \"plot_bgcolor\": \"#E5ECF6\", \"polar\": {\"angularaxis\": {\"gridcolor\": \"white\", \"linecolor\": \"white\", \"ticks\": \"\"}, \"bgcolor\": \"#E5ECF6\", \"radialaxis\": {\"gridcolor\": \"white\", \"linecolor\": \"white\", \"ticks\": \"\"}}, \"scene\": {\"xaxis\": {\"backgroundcolor\": \"#E5ECF6\", \"gridcolor\": \"white\", \"gridwidth\": 2, \"linecolor\": \"white\", \"showbackground\": true, \"ticks\": \"\", \"zerolinecolor\": \"white\"}, \"yaxis\": {\"backgroundcolor\": \"#E5ECF6\", \"gridcolor\": \"white\", \"gridwidth\": 2, \"linecolor\": \"white\", \"showbackground\": true, \"ticks\": \"\", \"zerolinecolor\": \"white\"}, \"zaxis\": {\"backgroundcolor\": \"#E5ECF6\", \"gridcolor\": \"white\", \"gridwidth\": 2, \"linecolor\": \"white\", \"showbackground\": true, \"ticks\": \"\", \"zerolinecolor\": \"white\"}}, \"shapedefaults\": {\"line\": {\"color\": \"#2a3f5f\"}}, \"ternary\": {\"aaxis\": {\"gridcolor\": \"white\", \"linecolor\": \"white\", \"ticks\": \"\"}, \"baxis\": {\"gridcolor\": \"white\", \"linecolor\": \"white\", \"ticks\": \"\"}, \"bgcolor\": \"#E5ECF6\", \"caxis\": {\"gridcolor\": \"white\", \"linecolor\": \"white\", \"ticks\": \"\"}}, \"title\": {\"x\": 0.05}, \"xaxis\": {\"automargin\": true, \"gridcolor\": \"white\", \"linecolor\": \"white\", \"ticks\": \"\", \"title\": {\"standoff\": 15}, \"zerolinecolor\": \"white\", \"zerolinewidth\": 2}, \"yaxis\": {\"automargin\": true, \"gridcolor\": \"white\", \"linecolor\": \"white\", \"ticks\": \"\", \"title\": {\"standoff\": 15}, \"zerolinecolor\": \"white\", \"zerolinewidth\": 2}}}},\n",
       "                        {\"responsive\": true}\n",
       "                    ).then(function(){\n",
       "                            \n",
       "var gd = document.getElementById('56d3aeaf-f387-4e1e-b93d-07044cf386cd');\n",
       "var x = new MutationObserver(function (mutations, observer) {{\n",
       "        var display = window.getComputedStyle(gd).display;\n",
       "        if (!display || display === 'none') {{\n",
       "            console.log([gd, 'removed!']);\n",
       "            Plotly.purge(gd);\n",
       "            observer.disconnect();\n",
       "        }}\n",
       "}});\n",
       "\n",
       "// Listen for the removal of the full notebook cells\n",
       "var notebookContainer = gd.closest('#notebook-container');\n",
       "if (notebookContainer) {{\n",
       "    x.observe(notebookContainer, {childList: true});\n",
       "}}\n",
       "\n",
       "// Listen for the clearing of the current output cell\n",
       "var outputEl = gd.closest('.output');\n",
       "if (outputEl) {{\n",
       "    x.observe(outputEl, {childList: true});\n",
       "}}\n",
       "\n",
       "                        })\n",
       "                };\n",
       "                });\n",
       "            </script>\n",
       "        </div>"
      ]
     },
     "metadata": {},
     "output_type": "display_data"
    }
   ],
   "source": [
    "fig = go.Figure(data=go.Scatter(x=df[\"percent\"], y=df[\"Population\"], mode='markers'))\n",
    "fig.show()"
   ]
  },
  {
   "cell_type": "markdown",
   "metadata": {},
   "source": [
    "## 2.3. Evolution"
   ]
  },
  {
   "cell_type": "code",
   "execution_count": null,
   "metadata": {},
   "outputs": [],
   "source": []
  },
  {
   "cell_type": "code",
   "execution_count": null,
   "metadata": {},
   "outputs": [],
   "source": []
  },
  {
   "cell_type": "code",
   "execution_count": null,
   "metadata": {},
   "outputs": [],
   "source": []
  },
  {
   "cell_type": "code",
   "execution_count": null,
   "metadata": {},
   "outputs": [],
   "source": []
  }
 ],
 "metadata": {
  "kernelspec": {
   "display_name": "Python 3",
   "language": "python",
   "name": "python3"
  },
  "language_info": {
   "codemirror_mode": {
    "name": "ipython",
    "version": 3
   },
   "file_extension": ".py",
   "mimetype": "text/x-python",
   "name": "python",
   "nbconvert_exporter": "python",
   "pygments_lexer": "ipython3",
   "version": "3.6.9"
  }
 },
 "nbformat": 4,
 "nbformat_minor": 2
}
